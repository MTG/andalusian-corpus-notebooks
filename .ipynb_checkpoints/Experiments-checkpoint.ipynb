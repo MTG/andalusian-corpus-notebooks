{
 "cells": [
  {
   "cell_type": "markdown",
   "metadata": {},
   "source": [
    "# Arab-Andalusian Collection - Experiments"
   ]
  },
  {
   "cell_type": "markdown",
   "metadata": {},
   "source": [
    "## Inizialization (MANDATORY)"
   ]
  },
  {
   "cell_type": "code",
   "execution_count": null,
   "metadata": {},
   "outputs": [],
   "source": [
    "from utilities.recordingcomputation import *\n",
    "from utilities.dunyautilities import *\n",
    "from utilities.metadataStatistics import *\n",
    "from utilities.experiments import *\n",
    "from gui.gui_corpora import *\n",
    "from gui.gui_analysis import *\n",
    "\n",
    "# download metadata from Dunya\n",
    "if not check_dunya_metadata():\n",
    "    print(\"Downloading metadata from Dunya...\")\n",
    "    collect_metadata()\n",
    "\n",
    "# create an object with all the well-structured metadata\n",
    "print(\"Analyzing Dunya Metadata...\")\n",
    "cm = CollectionMetadata()\n",
    "print(\"Collection of metadata created\")"
   ]
  },
  {
   "cell_type": "markdown",
   "metadata": {},
   "source": [
    "## Tonic Detection"
   ]
  },
  {
   "cell_type": "code",
   "execution_count": null,
   "metadata": {},
   "outputs": [],
   "source": [
    "TAB_DATASET = [1, 2, 3, 5, 9, 10, 14, 16, 18]\n",
    "TAB_FUNDAMENTAL_GRADE_IT = [\"DO\", \"RE\", \"RE\", \"RE\", \"DO\", \"RE\", \"SOL\", \"RE\", \"DO\"]\n",
    "TAB_FUNDAMENTAL_GRADE = [ \"C\", \"D\", \"D\", \"D\", \"C\", \"D\", \"G\", \"D\", \"C\"]"
   ]
  },
  {
   "cell_type": "code",
   "execution_count": null,
   "metadata": {},
   "outputs": [],
   "source": [
    "fake_tab_dataset = [1, 2, 3, 5, 9, 10, 14, 16, 18]\n",
    "not_valid_rmbid_list = [\"3e5a82a2-d806-45cc-876e-6fa8a2b5a61d\", \"545dd98f-9667-4299-b967-71e0a2a3c883\", \"99004770-1152-4fec-802a-a0014e9b9930\"]\n",
    "do = DataSet(cm, TAB_DATASET, 10, not_valid_rmbid_list)\n",
    "\n",
    "NAME_TONIC_TYPE = ['not_filt', 'filt', 'sec']\n",
    "\n",
    "for i in range(len(FN_TONIC_TYPE)):\n",
    "    do.export_dataset(EXPERIMENT_DIR, \"test_dataset_tonic_\" + NAME_TONIC_TYPE[i], FN_TONIC_TYPE[i], 'csv') \n",
    "    do.export_dataset(EXPERIMENT_DIR, \"test_dataset_tonic_\" + NAME_TONIC_TYPE[i], FN_TONIC_TYPE[i], 'json')\n",
    "do.export_dataset(EXPERIMENT_DIR, \"test_dataset_tonic_all\", 'all', 'csv') \n",
    "do.export_dataset(EXPERIMENT_DIR, \"test_dataset_tonic_all\", 'all', 'json')\n"
   ]
  },
  {
   "cell_type": "code",
   "execution_count": null,
   "metadata": {},
   "outputs": [],
   "source": [
    "do.move_dataset_mp3(RECORDINGS_DIR, EXPERIMENT_RECORDINGS_DIR)"
   ]
  },
  {
   "cell_type": "markdown",
   "metadata": {},
   "source": [
    "## Test Section Last Note Tonic"
   ]
  },
  {
   "cell_type": "code",
   "execution_count": null,
   "metadata": {},
   "outputs": [],
   "source": [
    "selector = SelectionGui(cm, 10)"
   ]
  },
  {
   "cell_type": "code",
   "execution_count": null,
   "metadata": {},
   "outputs": [],
   "source": [
    "rmbid_list1 = selector.get_rmbid_list()\n",
    "for rmbid in rmbid_list1:\n",
    "    print(\"----- \" + str(rmbid) + \"-----\")\n",
    "    tonic = get_tonic_value(os.path.join(RECORDINGS_DIR, rmbid), FN_TONIC_NO_FILT)\n",
    "    print(\"TONIC: \" + str(tonic))\n",
    "    tonic_filt = get_tonic_value(os.path.join(RECORDINGS_DIR, rmbid), FN_TONIC_FILT)\n",
    "    print(\"TONIC_FILT: \" + str(tonic_filt))\n",
    "    tonic_sections = get_sections_last_note_tonic(cm, rmbid)\n",
    "    print(\"TONIC_SECTIONS: \" + str(tonic_sections))\n",
    "    print()\n"
   ]
  },
  {
   "cell_type": "markdown",
   "metadata": {},
   "source": [
    "#### Compare all tonic_no_filt and tonic_filt"
   ]
  },
  {
   "cell_type": "code",
   "execution_count": null,
   "metadata": {},
   "outputs": [],
   "source": [
    "tree = os.walk(RECORDINGS_DIR)\n",
    "path_list = list()\n",
    "mbid_list = list()\n",
    "\n",
    "list_dir = [x[0] for x in tree]\n",
    "\n",
    "for recording in list_dir:\n",
    "    mbid = recording.split(RECORDINGS_DIR)[1]\n",
    "    if mbid:\n",
    "        path_list.append(recording)\n",
    "        mbid_list.append(mbid.split('/')[1])\n",
    "\n",
    "counter = 0\n",
    "counter_tonic = 0\n",
    "counter_tonic_x2_up = 0\n",
    "counter_tonic_x2_down = 0\n",
    "epsilon = 20\n",
    "print(\"pitch - pitch_filtered\")\n",
    "for single_recording_dir in path_list:\n",
    "    if  os.path.exists(os.path.join(single_recording_dir, 'audioanalysis--tonic_filt.json')):\n",
    "        with open(os.path.join(single_recording_dir, FN_TONIC_NO_FILT)) as json_data:\n",
    "            t = json.load(json_data)\n",
    "        with open(os.path.join(single_recording_dir, DUNYA_PREFIX_ANALYSIS+'tonic_filt.json')) as json_data:\n",
    "            t_f = json.load(json_data)\n",
    "        print (single_recording_dir + \" - \" +str(t[\"value\"]) + \" - \" + str(t_f[\"value\"]) + ' => ' + str((t==t_f)))\n",
    "        if t==t_f:\n",
    "            counter_tonic += 1\n",
    "        else:\n",
    "            if float(t_f[\"value\"]) < float((t[\"value\"]*2)) + epsilon and float(t_f[\"value\"]) > float((t[\"value\"]*2)) -epsilon:\n",
    "                counter_tonic_x2_up += 1\n",
    "            if float(t[\"value\"]) < float((t_f[\"value\"]*2)) + epsilon and float(t[\"value\"]) > float((t_f[\"value\"]*2)) -epsilon:\n",
    "                counter_tonic_x2_down +=1\n",
    "        counter +=1\n",
    "\n",
    "print(\"Different tonic = \" + str(counter_tonic) + \" / \" + str(counter))    \n",
    "print(\"Octave up = \" + str(counter_tonic_x2_up))\n",
    "print(\"Octave down = \" + str(counter_tonic_x2_down))"
   ]
  },
  {
   "cell_type": "markdown",
   "metadata": {},
   "source": [
    "#### Rename all file tonic.json file"
   ]
  },
  {
   "cell_type": "code",
   "execution_count": null,
   "metadata": {},
   "outputs": [],
   "source": [
    "tree = os.walk(RECORDINGS_DIR)\n",
    "path_list = list()\n",
    "mbid_list = list()\n",
    "\n",
    "list_dir = [x[0] for x in tree]\n",
    "\n",
    "for recording in list_dir:\n",
    "    mbid = recording.split(RECORDINGS_DIR)[1]\n",
    "    if mbid:\n",
    "        path_list.append(recording)\n",
    "        mbid_list.append(mbid.split('/')[1])\n",
    "        \n",
    "print(len(path_list))\n",
    "print(len(mbid_list))\n",
    "\n",
    "\n",
    "for rmbid_path in path_list:\n",
    "    print(rmbid_path)\n",
    "    old_name = DUNYA_PREFIX_ANALYSIS + 'tonic.json'\n",
    "    old = os.path.join(rmbid_path, old_name)\n",
    "    new = os.path.join(rmbid_path, FN_TONIC_NO_FILT)\n",
    "    os.rename(old, new)"
   ]
  }
 ],
 "metadata": {
  "kernelspec": {
   "display_name": "Python 3",
   "language": "python",
   "name": "python3"
  },
  "language_info": {
   "codemirror_mode": {
    "name": "ipython",
    "version": 3
   },
   "file_extension": ".py",
   "mimetype": "text/x-python",
   "name": "python",
   "nbconvert_exporter": "python",
   "pygments_lexer": "ipython3",
   "version": "3.5.2"
  }
 },
 "nbformat": 4,
 "nbformat_minor": 2
}
