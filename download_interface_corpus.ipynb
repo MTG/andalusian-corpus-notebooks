{
 "cells": [
  {
   "cell_type": "markdown",
   "metadata": {},
   "source": [
    "# Arab-Andalusian Collection - Corpus\n",
    "With this notebook, it is possible to download and analyse the entire corpus of Arab-Andalusian music in Dunya. The corpus is composed by 164 recordings and their relative metadata coming from Dunya. Most of them also feature notes transcriptions stored in a xml score and other metadata coming from Musicbrainz. With this notebook, it is possible to select all or part of this corpus, downloading the data and computing pitch profile, distribution and tonic frequency of each recording."
   ]
  },
  {
   "cell_type": "markdown",
   "metadata": {},
   "source": [
    "## Initialization (MANDATORY)\n",
    "In this cell, all the libraries are loaded. \n",
    "Furthermore, a function checks if the metadata related to Arab-Andalusian corpus of Dunya has been downloaded: if not, all metadata will be downloaded. \n",
    "At the end, the code creates an object to manage the Dunya metadata.\n",
    "\n",
    "#### NB: Before to run, remember to add the Dunya token in the costants.py file. This file is in the directory \"utilities\"."
   ]
  },
  {
   "cell_type": "code",
   "execution_count": 8,
   "metadata": {},
   "outputs": [
    {
     "name": "stdout",
     "output_type": "stream",
     "text": [
      "Analyzing Dunya Metadata...\n"
     ]
    },
    {
     "name": "stderr",
     "output_type": "stream",
     "text": [
      "/notebooks/utilities/metadataStatistics.py:46: FutureWarning: Sorting because non-concatenation axis is not aligned. A future version\n",
      "of pandas will change to not sort by default.\n",
      "\n",
      "To accept the future behavior, pass 'sort=False'.\n",
      "\n",
      "To retain the current behavior and silence the warning, pass 'sort=True'.\n",
      "\n",
      "  df = pd.concat([df, new_row])\n",
      "/notebooks/utilities/metadataStatistics.py:67: FutureWarning: Sorting because non-concatenation axis is not aligned. A future version\n",
      "of pandas will change to not sort by default.\n",
      "\n",
      "To accept the future behavior, pass 'sort=False'.\n",
      "\n",
      "To retain the current behavior and silence the warning, pass 'sort=True'.\n",
      "\n",
      "  self.df_recording = pd.concat([self.df_recording, new_row])\n"
     ]
    },
    {
     "name": "stdout",
     "output_type": "stream",
     "text": [
      "Collection of metadata created\n"
     ]
    }
   ],
   "source": [
    "from utilities.recordingcomputation import *\n",
    "from utilities.dunyautilities import *\n",
    "from utilities.metadataStatistics import *\n",
    "from utilities.constants import *\n",
    "from gui.gui_corpora import *\n",
    "\n",
    "# download metadata from Dunya\n",
    "if not check_dunya_metadata():\n",
    "    print(\"Downloading metadata from Dunya...\")\n",
    "    collect_metadata()\n",
    "\n",
    "# create an object with all the well-structured metadata\n",
    "print(\"Analyzing Dunya Metadata...\")\n",
    "cm = CollectionMetadata()\n",
    "print(\"Collection of metadata created\")"
   ]
  },
  {
   "cell_type": "markdown",
   "metadata": {},
   "source": [
    "## Select a list of recordings\n",
    "\n",
    "The widget of this cell allows to select a subset of the Arab-Andalusian corpus. With the characteristics of the first row, it is possible to select a list of recordings with a specific nawba, tab, mizan and form. All these data come from Dunya metadata. \n",
    "\n",
    "Options in the second row allow to select the recordings depending if the mp3 file and/or xml score and/or Musicbrainz metadata are downloaded or not.\n",
    "It is also possible to select only the recordings that have been analysed or not. \n",
    "\n",
    "Furthermore, the list of resulting recordings could be manually tweaked using checkboxes."
   ]
  },
  {
   "cell_type": "code",
   "execution_count": 3,
   "metadata": {
    "scrolled": false
   },
   "outputs": [
    {
     "data": {
      "application/vnd.jupyter.widget-view+json": {
       "model_id": "ecae42a20b364c87beb6fcbc92cef7a5",
       "version_major": 2,
       "version_minor": 0
      },
      "text/plain": [
       "VBox(children=(Label(value='   SELECT CHARACTERISTICS: '), HBox(children=(VBox(children=(Label(value='   ṭāb‘'…"
      ]
     },
     "metadata": {},
     "output_type": "display_data"
    }
   ],
   "source": [
    "selector = SelectionGui(cm, 10)"
   ]
  },
  {
   "cell_type": "markdown",
   "metadata": {},
   "source": [
    "To extract the list of recordings from the previous interface, it is necessary to run the next cell. \n",
    "The resulting list contains all the Musicbrainz IDs of the selected recordings."
   ]
  },
  {
   "cell_type": "code",
   "execution_count": 4,
   "metadata": {
    "scrolled": true
   },
   "outputs": [
    {
     "name": "stdout",
     "output_type": "stream",
     "text": [
      "Number of tracks: 1\n"
     ]
    }
   ],
   "source": [
    "rmbid_list1 = selector.get_rmbid_list()\n",
    "print(\"Number of tracks: \" + str(len(rmbid_list1)))"
   ]
  },
  {
   "cell_type": "markdown",
   "metadata": {},
   "source": [
    "## Download mp3, score, Musicbrainz metadata, lyrics and pitch track"
   ]
  },
  {
   "cell_type": "markdown",
   "metadata": {},
   "source": [
    "With this function, it is possible to check the correctness of the list of Musicbrainz IDs. Incorrect IDs are showed."
   ]
  },
  {
   "cell_type": "code",
   "execution_count": 5,
   "metadata": {},
   "outputs": [
    {
     "name": "stdout",
     "output_type": "stream",
     "text": [
      "List of recordings in Dunya: \n",
      "['c20e4852-d140-4909-acab-e850c0e7d8e8']\n",
      "\n",
      "List of uncorrect recordings: \n",
      "[]\n"
     ]
    }
   ],
   "source": [
    "check_before_download(rmbid_list1, cm)"
   ]
  },
  {
   "cell_type": "markdown",
   "metadata": {},
   "source": [
    "The following interface allows to download the list of recordings previously selected. User can choose the type of data to download."
   ]
  },
  {
   "cell_type": "code",
   "execution_count": 9,
   "metadata": {
    "scrolled": true
   },
   "outputs": [
    {
     "data": {
      "application/vnd.jupyter.widget-view+json": {
       "model_id": "83e0eb484cdb4274b65d91cc99280100",
       "version_major": 2,
       "version_minor": 0
      },
      "text/plain": [
       "VBox(children=(HBox(children=(Label(value='Select data type:', layout=Layout(width='50%')), Label(value='Selec…"
      ]
     },
     "metadata": {},
     "output_type": "display_data"
    },
    {
     "name": "stdout",
     "output_type": "stream",
     "text": [
      "\n",
      "Downloading data for recording c20e4852-d140-4909-acab-e850c0e7d8e8\n",
      " - Pitch track downloaded\n",
      "\n",
      "Download complete\n"
     ]
    }
   ],
   "source": [
    "downloader = DownloadGui(rmbid_list1, cm)"
   ]
  }
 ],
 "metadata": {
  "kernelspec": {
   "display_name": "Python 3",
   "language": "python",
   "name": "python3"
  },
  "language_info": {
   "codemirror_mode": {
    "name": "ipython",
    "version": 3
   },
   "file_extension": ".py",
   "mimetype": "text/x-python",
   "name": "python",
   "nbconvert_exporter": "python",
   "pygments_lexer": "ipython3",
   "version": "3.5.2"
  }
 },
 "nbformat": 4,
 "nbformat_minor": 2
}
