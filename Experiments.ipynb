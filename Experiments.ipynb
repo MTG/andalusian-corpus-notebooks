{
 "cells": [
  {
   "cell_type": "markdown",
   "metadata": {},
   "source": [
    "# Arab-Andalusian Collection - Experiments"
   ]
  },
  {
   "cell_type": "markdown",
   "metadata": {},
   "source": [
    "## Inizialization (MANDATORY)"
   ]
  },
  {
   "cell_type": "code",
   "execution_count": null,
   "metadata": {},
   "outputs": [],
   "source": [
    "from utilities.recordingcomputation import *\n",
    "from utilities.dunyautilities import *\n",
    "from utilities.metadataStatistics import *\n",
    "from utilities.experiments import *\n",
    "from gui.gui_corpora import *\n",
    "from gui.gui_analysis import *\n",
    "\n",
    "# download metadata from Dunya\n",
    "if not check_dunya_metadata():\n",
    "    print(\"Downloading metadata from Dunya...\")\n",
    "    collect_metadata()\n",
    "\n",
    "# create an object with all the well-structured metadata\n",
    "print(\"Analyzing Dunya Metadata...\")\n",
    "cm = CollectionMetadata()\n",
    "print(\"Collection of metadata created\")"
   ]
  },
  {
   "cell_type": "markdown",
   "metadata": {},
   "source": [
    "## Tonic Detection"
   ]
  },
  {
   "cell_type": "markdown",
   "metadata": {},
   "source": [
    "#### Create a Dataset object from metadata and create json and csv files with mbid, tonic and tab information"
   ]
  },
  {
   "cell_type": "code",
   "execution_count": null,
   "metadata": {},
   "outputs": [],
   "source": [
    "TAB_DATASET = [1, 2, 3, 5, 9, 10, 14, 16, 18]\n",
    "TAB_FUNDAMENTAL_GRADE_IT = [\"DO\", \"RE\", \"RE\", \"RE\", \"DO\", \"RE\", \"SOL\", \"RE\", \"DO\"]\n",
    "TAB_FUNDAMENTAL_GRADE = [ \"C\", \"D\", \"D\", \"D\", \"C\", \"D\", \"G\", \"D\", \"C\"]"
   ]
  },
  {
   "cell_type": "code",
   "execution_count": null,
   "metadata": {},
   "outputs": [],
   "source": [
    "not_valid_rmbid_list = [\"3e5a82a2-d806-45cc-876e-6fa8a2b5a61d\", \"545dd98f-9667-4299-b967-71e0a2a3c883\", \"99004770-1152-4fec-802a-a0014e9b9930\"]\n",
    "do = DataSet(cm, TAB_DATASET, 10, not_valid_rmbid_list)\n",
    "\n",
    "NAME_TONIC_TYPE = ['not_filt', 'filt', 'sec']\n",
    "for i in range(len(FN_TONIC_TYPE)):\n",
    "    do.export_dataset(EXPERIMENT_DIR, \"test_dataset_tonic_\" + NAME_TONIC_TYPE[i], FN_TONIC_TYPE[i], 'csv') \n",
    "    do.export_dataset(EXPERIMENT_DIR, \"test_dataset_tonic_\" + NAME_TONIC_TYPE[i], FN_TONIC_TYPE[i], 'json')\n",
    "do.export_dataset(EXPERIMENT_DIR, \"test_dataset_tonic_all\", 'all', 'csv') \n",
    "do.export_dataset(EXPERIMENT_DIR, \"test_dataset_tonic_all\", 'all', 'json')\n"
   ]
  },
  {
   "cell_type": "markdown",
   "metadata": {},
   "source": [
    "#### Create a directory and move recordings mp3 of the dataset in a directory with the pitch and pitch filtered profile that can be imported in Sonic Visualizer"
   ]
  },
  {
   "cell_type": "code",
   "execution_count": null,
   "metadata": {},
   "outputs": [],
   "source": [
    "do.move_dataset_mp3(RECORDINGS_DIR, EXPERIMENT_RECORDINGS_DIR)"
   ]
  }
 ],
 "metadata": {
  "kernelspec": {
   "display_name": "Python 3",
   "language": "python",
   "name": "python3"
  },
  "language_info": {
   "codemirror_mode": {
    "name": "ipython",
    "version": 3
   },
   "file_extension": ".py",
   "mimetype": "text/x-python",
   "name": "python",
   "nbconvert_exporter": "python",
   "pygments_lexer": "ipython3",
   "version": "3.5.2"
  }
 },
 "nbformat": 4,
 "nbformat_minor": 2
}
