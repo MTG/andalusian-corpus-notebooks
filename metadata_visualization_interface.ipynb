{
 "cells": [
  {
   "cell_type": "markdown",
   "metadata": {},
   "source": [
    "# Arab-Andalusian Collection - Metadata\n",
    "With this notebook, it is possible to group, visualize and analyse metadata in order to extract general statistics. It has four main parts: (1) a widget for metadata analysis of the corpus, grouped by a musical characteristic (nawba, tab, mizan and form); (2) a widget that combines two musical characteristics; (3) a piece of code to extract overall general metadata; and (4) a widget to analyse a single recording."
   ]
  },
  {
   "cell_type": "markdown",
   "metadata": {},
   "source": [
    "## Initialization (MANDATORY)\n",
    "In this cell, all the libraries are loaded. \n",
    "Furthermore, a function checks if the metadata related to Arab-Andalusian corpus of Dunya has been downloaded: if not, all metadata will be downloaded. \n",
    "At the end, the code creates an object to manage the Dunya metadata.\n",
    "\n",
    "#### NB: Before to run, remember to add the Dunya token in the costants.py file. This file is in the directory \"utilities\"."
   ]
  },
  {
   "cell_type": "code",
   "execution_count": 37,
   "metadata": {},
   "outputs": [
    {
     "name": "stdout",
     "output_type": "stream",
     "text": [
      "The autoreload extension is already loaded. To reload it, use:\n",
      "  %reload_ext autoreload\n"
     ]
    }
   ],
   "source": [
    "%load_ext autoreload\n",
    "\n",
    "%autoreload 2"
   ]
  },
  {
   "cell_type": "code",
   "execution_count": 1,
   "metadata": {},
   "outputs": [
    {
     "name": "stdout",
     "output_type": "stream",
     "text": [
      "Analyzing Dunya Metadata...\n"
     ]
    },
    {
     "name": "stderr",
     "output_type": "stream",
     "text": [
      "/notebooks/utilities/metadataStatistics.py:46: FutureWarning: Sorting because non-concatenation axis is not aligned. A future version\n",
      "of pandas will change to not sort by default.\n",
      "\n",
      "To accept the future behavior, pass 'sort=False'.\n",
      "\n",
      "To retain the current behavior and silence the warning, pass 'sort=True'.\n",
      "\n",
      "  df = pd.concat([df, new_row])\n",
      "/notebooks/utilities/metadataStatistics.py:67: FutureWarning: Sorting because non-concatenation axis is not aligned. A future version\n",
      "of pandas will change to not sort by default.\n",
      "\n",
      "To accept the future behavior, pass 'sort=False'.\n",
      "\n",
      "To retain the current behavior and silence the warning, pass 'sort=True'.\n",
      "\n",
      "  self.df_recording = pd.concat([self.df_recording, new_row])\n"
     ]
    },
    {
     "name": "stdout",
     "output_type": "stream",
     "text": [
      "Collection of metadata created\n"
     ]
    }
   ],
   "source": [
    "from utilities.recordingcomputation import *\n",
    "from utilities.dunyautilities import *\n",
    "from utilities.metadataStatistics import *\n",
    "from utilities.generalutilities import *\n",
    "\n",
    "from gui.gui_corpora import *\n",
    "from gui.gui_metadata import *\n",
    "\n",
    "# download metadata from Dunya\n",
    "if not check_dunya_metadata():\n",
    "    print(\"Downloading metadata from Dunya...\")\n",
    "    collect_metadata()\n",
    "\n",
    "# create an object with all the well-structured metadata\n",
    "print(\"Analyzing Dunya Metadata...\")\n",
    "cm = CollectionMetadata()\n",
    "print(\"Collection of metadata created\")"
   ]
  },
  {
   "cell_type": "markdown",
   "metadata": {},
   "source": [
    "## Statistics by nawba, tab, mizan and form\n",
    "Running this cell, it is possible to group all the metadata and to extract information for each characteristic (nawba, tab, mizan, and form). For each element of the list, it is possible to visualize the number of recordings and sections of that type, overall and average section time length. All these values are plotted in a histogram placed at the bottom of the table. \n",
    "#### Visualize - NB: recordings without sections description are not considered."
   ]
  },
  {
   "cell_type": "code",
   "execution_count": 2,
   "metadata": {},
   "outputs": [
    {
     "data": {
      "application/vnd.jupyter.widget-view+json": {
       "model_id": "0bc90fe6e12043f5ba7160191ea3be06",
       "version_major": 2,
       "version_minor": 0
      },
      "text/plain": [
       "VBox(children=(VBox(children=(Tab(children=(HBox(children=(VBox(children=(Label(value='name'), Label(value='ال…"
      ]
     },
     "metadata": {},
     "output_type": "display_data"
    }
   ],
   "source": [
    "vd = VisualizeDataframeGui(cm)"
   ]
  },
  {
   "cell_type": "markdown",
   "metadata": {},
   "source": [
    "## Cross Statistics\n",
    "\n",
    "In this cell, it is possible to extract statistics from the combination of two musical characteristics. \n",
    "\n",
    "#### Visualize - NB: recordings without sections description are not considered"
   ]
  },
  {
   "cell_type": "code",
   "execution_count": 5,
   "metadata": {},
   "outputs": [
    {
     "data": {
      "application/vnd.jupyter.widget-view+json": {
       "model_id": "34a3b33766c04596bc9b983dba20208c",
       "version_major": 2,
       "version_minor": 0
      },
      "text/plain": [
       "VBox(children=(HBox(children=(VBox(children=(Label(value='Column:'), Dropdown(layout=Layout(width='180px'), op…"
      ]
     },
     "metadata": {},
     "output_type": "display_data"
    }
   ],
   "source": [
    "cr = CrossMetadataVisualization(cm)"
   ]
  },
  {
   "cell_type": "markdown",
   "metadata": {},
   "source": [
    "## General Statistics\n",
    "These statistics are obtained by computing all the recordings."
   ]
  },
  {
   "cell_type": "code",
   "execution_count": 6,
   "metadata": {},
   "outputs": [
    {
     "name": "stdout",
     "output_type": "stream",
     "text": [
      "Overall computable time (only recordings with sections) = 100:11:01\n",
      "Number of recordings without sections = 6/164\n",
      "Number of recordings without score = 6/164\n",
      "Number of recordings without archive_url = 6/164\n",
      "\n",
      "Recordings with different nawbas in the same track:['0386e377-7212-43e5-89b6-7f4c42d0ae74']\n",
      "Recordings with different tab in the same track:['0386e377-7212-43e5-89b6-7f4c42d0ae74']\n"
     ]
    }
   ],
   "source": [
    "print(\"Overall computable time (only recordings with sections) = \" + get_time(cm.get_overall_sections_time()))\n",
    "print(\"Number of recordings without sections = \" + str(len(cm.mbid_no_sections)) + '/' + str(len(cm.df_recording)) )\n",
    "print(\"Number of recordings without score = \" + str(len(cm.get_recordings_without('musescore_url'))) + '/' + str(len(cm.df_recording)) )\n",
    "# possible value 'archive_url', 'musescore_url', 'title', 'transliterated_title' \n",
    "print(\"Number of recordings without archive_url = \" + str(len(cm.get_recordings_without('archive_url'))) + '/' + str(len(cm.df_recording)) )\n",
    "print()\n",
    "print(\"Recordings with different nawbas in the same track:\" + str(cm.get_recordings_with_diff_('nawba')) )\n",
    "print(\"Recordings with different tab in the same track:\" + str(cm.get_recordings_with_diff_('tab')) )"
   ]
  },
  {
   "cell_type": "markdown",
   "metadata": {},
   "source": [
    "## Single recording information\n",
    "With this cell, it is possible to visualise and select a single recording, in order to find its Musicbrainz ID necessary in the next cell."
   ]
  },
  {
   "cell_type": "code",
   "execution_count": 31,
   "metadata": {},
   "outputs": [
    {
     "data": {
      "application/vnd.jupyter.widget-view+json": {
       "model_id": "119c792f753c4cfb9e6b0820dd46c951",
       "version_major": 2,
       "version_minor": 0
      },
      "text/plain": [
       "VBox(children=(Label(value='   SELECT CHARACTERISTICS: '), HBox(children=(VBox(children=(Label(value='   ṭāb‘'…"
      ]
     },
     "metadata": {},
     "output_type": "display_data"
    }
   ],
   "source": [
    "selector = SelectionGui(cm, 10)"
   ]
  },
  {
   "cell_type": "markdown",
   "metadata": {},
   "source": [
    "By adding a Musicbrainz ID in the variable \"rmbid\", it is possible to visualise the characteristcs of the recording."
   ]
  },
  {
   "cell_type": "code",
   "execution_count": 39,
   "metadata": {},
   "outputs": [
    {
     "data": {
      "application/vnd.jupyter.widget-view+json": {
       "model_id": "080b98426270481f8723e6cab2cdedaf",
       "version_major": 2,
       "version_minor": 0
      },
      "text/plain": [
       "VBox(children=(Label(value='MBID: b3059282-a235-4fa4-9093-cb16a70d4b5d'), Label(value='DUNYA API info: dunya.c…"
      ]
     },
     "metadata": {},
     "output_type": "display_data"
    }
   ],
   "source": [
    "rmbid = 'b3059282-a235-4fa4-9093-cb16a70d4b5d' # add a MusicBrainz id \n",
    "srv = SingleRecordingVisualization(cm, rmbid)"
   ]
  },
  {
   "cell_type": "markdown",
   "metadata": {},
   "source": [
    "## Test "
   ]
  },
  {
   "cell_type": "code",
   "execution_count": null,
   "metadata": {},
   "outputs": [],
   "source": []
  }
 ],
 "metadata": {
  "kernelspec": {
   "display_name": "Python 3",
   "language": "python",
   "name": "python3"
  },
  "language_info": {
   "codemirror_mode": {
    "name": "ipython",
    "version": 3
   },
   "file_extension": ".py",
   "mimetype": "text/x-python",
   "name": "python",
   "nbconvert_exporter": "python",
   "pygments_lexer": "ipython3",
   "version": "3.5.2"
  }
 },
 "nbformat": 4,
 "nbformat_minor": 2
}
