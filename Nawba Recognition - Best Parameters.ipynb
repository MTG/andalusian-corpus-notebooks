{
 "cells": [
  {
   "cell_type": "markdown",
   "metadata": {},
   "source": [
    "# Arab-Andalusian Collection - Experiments"
   ]
  },
  {
   "cell_type": "markdown",
   "metadata": {},
   "source": [
    "## Inizialization (MANDATORY)"
   ]
  },
  {
   "cell_type": "code",
   "execution_count": 1,
   "metadata": {},
   "outputs": [
    {
     "name": "stdout",
     "output_type": "stream",
     "text": [
      "Analyzing Dunya Metadata...\n",
      "Collection of metadata created\n"
     ]
    }
   ],
   "source": [
    "%matplotlib inline\n",
    "import matplotlib.pyplot as plt\n",
    "plt.ioff()\n",
    "import numpy as np\n",
    "\n",
    "from utilities.recordingcomputation import *\n",
    "from utilities.dunyautilities import *\n",
    "from utilities.metadataStatistics import *\n",
    "from utilities.generalutilities import *\n",
    "from utilities.experiments import *\n",
    "from gui.gui_corpora import *\n",
    "from gui.gui_analysis import *\n",
    "\n",
    "# download metadata from Dunya\n",
    "if not check_dunya_metadata():\n",
    "    print(\"Downloading metadata from Dunya...\")\n",
    "    collect_metadata()\n",
    "\n",
    "# create an object with all the well-structured metadata\n",
    "print(\"Analyzing Dunya Metadata...\")\n",
    "cm = CollectionMetadata()\n",
    "print(\"Collection of metadata created\")"
   ]
  },
  {
   "cell_type": "markdown",
   "metadata": {},
   "source": [
    "## Dataset creation"
   ]
  },
  {
   "cell_type": "markdown",
   "metadata": {},
   "source": [
    "#### Define parameters and create the Dataset object (MANDATORY)"
   ]
  },
  {
   "cell_type": "code",
   "execution_count": 2,
   "metadata": {},
   "outputs": [],
   "source": [
    "dataset_csv_path = os.path.join(EXPERIMENT_DIR, \"dataset_nawba_77_recordings.csv\") #\"dataset_test.csv\" \"dataset_nawba_77_recordings.csv\"\n",
    "do = DataSet(cm)\n",
    "do.import_dataset_from_csv(dataset_csv_path)"
   ]
  },
  {
   "cell_type": "markdown",
   "metadata": {},
   "source": [
    "## Nawba Recognition"
   ]
  },
  {
   "cell_type": "markdown",
   "metadata": {},
   "source": [
    "#### Create experiment object and divide the dataset in training set and test set "
   ]
  },
  {
   "cell_type": "code",
   "execution_count": 3,
   "metadata": {},
   "outputs": [
    {
     "name": "stdout",
     "output_type": "stream",
     "text": [
      "<music21.note.Note F##> discarded\n",
      "<music21.note.Note F##> discarded\n",
      "<music21.note.Note F##> discarded\n",
      "<music21.note.Note F##> discarded\n",
      "<music21.note.Note F##> discarded\n",
      "<music21.note.Note F##> discarded\n",
      "<music21.note.Note F##> discarded\n",
      "<music21.note.Note F##> discarded\n",
      "<music21.chord.Chord B4 A#5 B5> discarded\n",
      "<music21.note.Note F##> discarded\n",
      "<music21.note.Note F##> discarded\n",
      "<music21.note.Note F##> discarded\n",
      "<music21.note.Note F##> discarded\n",
      "<music21.chord.Chord B4 A#5 B5> discarded\n",
      "<music21.note.Note F##> discarded\n",
      "<music21.note.Note F##> discarded\n",
      "<music21.note.Note F##> discarded\n",
      "<music21.note.Note F##> discarded\n",
      "<music21.chord.Chord B4 A#5 B5> discarded\n",
      "<music21.chord.Chord B4 A#5 B5> discarded\n",
      "<music21.chord.Chord B4 A#5 B5> discarded\n",
      "<music21.note.Note F##> discarded\n",
      "<music21.note.Note F##> discarded\n",
      "<music21.note.Note F##> discarded\n",
      "<music21.note.Note F##> discarded\n",
      "<music21.chord.Chord B4 A#5 B5> discarded\n",
      "<music21.note.Note F##> discarded\n",
      "<music21.note.Note F##> discarded\n",
      "<music21.note.Note F##> discarded\n",
      "<music21.note.Note F##> discarded\n"
     ]
    }
   ],
   "source": [
    "# parameters\n",
    "distance_measures_list = [\"city block (L1)\"]\n",
    "random_state_list = range(20,30) # for a single experiment with best result use range(29,30)\n",
    "std_list = [30] \n",
    "esperiment_name = \"nawba_recognition_best\"\n",
    "source_dir = os.path.join(EXPERIMENT_DIR, esperiment_name)\n",
    "sub_esperiment_suffix = \"exp\"\n",
    "\n",
    "experiment_list = list()\n",
    "for i in random_state_list:\n",
    "    sub_esperiment_name = \"{}_{}\".format(sub_esperiment_suffix, i)\n",
    "    experiment_list.append(Nawba_Recognition_Experiment(do, (22/77), i, std_list, distance_measures_list, sub_esperiment_name, source_dir))"
   ]
  },
  {
   "cell_type": "markdown",
   "metadata": {},
   "source": [
    "#### Run test"
   ]
  },
  {
   "cell_type": "code",
   "execution_count": null,
   "metadata": {},
   "outputs": [
    {
     "name": "stdout",
     "output_type": "stream",
     "text": [
      "\n",
      "exp_1_std_29 results: \n",
      " - sub_exp_30 completed\n",
      "\n",
      "    nawba-city block (L1)\n",
      "30               0.818182\n",
      "\n",
      "exp_2_std_29 results: \n",
      " - sub_exp_30 completed\n",
      "\n",
      "    nawba-city block (L1)\n",
      "30               0.818182\n",
      "\n",
      "exp_3_std_29 results: \n",
      " - sub_exp_30 completed\n",
      "\n",
      "    nawba-city block (L1)\n",
      "30               0.818182\n",
      "\n",
      "exp_4_std_29 results: \n"
     ]
    }
   ],
   "source": [
    "counter = 1\n",
    "for index in range(len(experiment_list)):\n",
    "    name = \"exp_{}_std_{} results: \".format(counter, i)\n",
    "    print()\n",
    "    print(name)\n",
    "    experiment_list[index].run()\n",
    "    experiment_list[index].compute_summary()\n",
    "    print()\n",
    "    print(experiment_list[index].df_summary )\n",
    "    counter += 1"
   ]
  },
  {
   "cell_type": "markdown",
   "metadata": {},
   "source": [
    "#### Get the overall results"
   ]
  },
  {
   "cell_type": "code",
   "execution_count": null,
   "metadata": {},
   "outputs": [],
   "source": [
    "# compute and print overall results\n",
    "df_overall =  experiment_list[0].df_summary\n",
    "for index in range(len(experiment_list)-1):\n",
    "    df_overall = df_overall.add(experiment_list[index+1].df_summary)\n",
    "df_overall = df_overall.divide(len(experiment_list))\n",
    "print(df_overall)\n",
    "\n",
    "# export the results\n",
    "export_overall_experiment(experiment_list, source_dir)"
   ]
  },
  {
   "cell_type": "code",
   "execution_count": null,
   "metadata": {},
   "outputs": [],
   "source": []
  }
 ],
 "metadata": {
  "kernelspec": {
   "display_name": "Python 3",
   "language": "python",
   "name": "python3"
  },
  "language_info": {
   "codemirror_mode": {
    "name": "ipython",
    "version": 3
   },
   "file_extension": ".py",
   "mimetype": "text/x-python",
   "name": "python",
   "nbconvert_exporter": "python",
   "pygments_lexer": "ipython3",
   "version": "3.5.2"
  }
 },
 "nbformat": 4,
 "nbformat_minor": 2
}
