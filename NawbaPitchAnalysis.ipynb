{
 "cells": [
  {
   "cell_type": "markdown",
   "metadata": {},
   "source": [
    "# Arab-Andalusian Collection - Nawba Pitch Analysis\n",
    "\n",
    "In this notebook, it is possible to visualize the pitch distribution and the note/class distribution of a single recording or a group of them."
   ]
  },
  {
   "cell_type": "markdown",
   "metadata": {},
   "source": [
    "## Inizialization (MANDATORY)\n",
    "In this cell, all the libraries are loaded. \n",
    "Furthermore, a function check if the metadata related to the Arab-Andalusian corpus of Dunya has been downloaded. If necessary, all the metadata will be downloaded. \n",
    "At the end, an object to manage the Dunya metadata is created.\n",
    "\n",
    "#### NB: Before to run, remember to add the dunya token in the costants.py file. This file is in the directory \"utilities\"."
   ]
  },
  {
   "cell_type": "code",
   "execution_count": 1,
   "metadata": {},
   "outputs": [
    {
     "name": "stdout",
     "output_type": "stream",
     "text": [
      "Analyzing Dunya Metadata...\n",
      "Collection of metadata created\n"
     ]
    }
   ],
   "source": [
    "from utilities.recordingcomputation import *\n",
    "from utilities.dunyautilities import *\n",
    "from utilities.metadataStatistics import *\n",
    "from utilities.experiments import *\n",
    "from gui.gui_corpora import *\n",
    "from gui.gui_analysis import *\n",
    "\n",
    "# download metadata from Dunya\n",
    "if not check_dunya_metadata():\n",
    "    print(\"Downloading metadata from Dunya...\")\n",
    "    collect_metadata()\n",
    "\n",
    "# create an object with all the well-structured metadata\n",
    "print(\"Analyzing Dunya Metadata...\")\n",
    "cm = CollectionMetadata()\n",
    "print(\"Collection of metadata created\")"
   ]
  },
  {
   "cell_type": "markdown",
   "metadata": {},
   "source": [
    "## Pitch Distribution comparison\n",
    "With this widget, it is possible to visualize the pitch distribution of single recordings or the overall/average pitch distribution of a nawba. The pitch distribution can be compared with the note distribution of the correspondent transcription of the score or, in an overall/average notes distribution. The pitch distribution are centered by using tonic frequency computed in different ways. With the options, it is possible (1) to select the nawba to analyze, (2) to center the plot in three octaves, and (3) to fold the plot in one octaves. After the selection of the type of graphs and the options, pressing \"Run Interact\" button, it will be visualized the requested graphs."
   ]
  },
  {
   "cell_type": "code",
   "execution_count": 2,
   "metadata": {
    "scrolled": false
   },
   "outputs": [
    {
     "data": {
      "application/vnd.jupyter.widget-view+json": {
       "model_id": "25844b4319594aafab0bde7e8f2975e8",
       "version_major": 2,
       "version_minor": 0
      },
      "text/html": [
       "<p>Failed to display Jupyter Widget of type <code>HBox</code>.</p>\n",
       "<p>\n",
       "  If you're reading this message in the Jupyter Notebook or JupyterLab Notebook, it may mean\n",
       "  that the widgets JavaScript is still loading. If this message persists, it\n",
       "  likely means that the widgets JavaScript library is either not installed or\n",
       "  not enabled. See the <a href=\"https://ipywidgets.readthedocs.io/en/stable/user_install.html\">Jupyter\n",
       "  Widgets Documentation</a> for setup instructions.\n",
       "</p>\n",
       "<p>\n",
       "  If you're reading this message in another frontend (for example, a static\n",
       "  rendering on GitHub or <a href=\"https://nbviewer.jupyter.org/\">NBViewer</a>),\n",
       "  it may mean that your frontend doesn't currently support widgets.\n",
       "</p>\n"
      ],
      "text/plain": [
       "HBox(children=(VBox(children=(Label(value='Graphs:'), Checkbox(value=False, description='Single recording PD with not filtered tonic', indent=False), Checkbox(value=False, description='Single Recording PD with filtered tonic', indent=False), Checkbox(value=False, description='Single Recording PD with sections tonic', indent=False), Checkbox(value=False, description='Overall nawba PD with not filtered tonic', indent=False), Checkbox(value=False, description='Overall nawba PD with filtered tonic', indent=False), Checkbox(value=False, description='Overall nawba PD with sections tonic', indent=False), Checkbox(value=False, description='Average nawba PD with not filtered tonic', indent=False), Checkbox(value=False, description='Avarage nawba PD with filtered tonic', indent=False), Checkbox(value=False, description='Avarage nawba PD with sections tonic', indent=False))), VBox(children=(Label(value='Options:'), Dropdown(layout=Layout(width='80%'), options=(('1 - al-istihlāl', 1), ('2 - al-āṣbhān', 2), ('3 - al-ḥjāz al-kabīr', 3), ('4 - al-ḥjāz al-mashriqī', 4), ('5 - al-ruṣṣad', 5), ('6 - al-‘ushshāq', 6), ('7 - al-māīyah', 7), ('8 - bidūn', 8), ('9 - bawākir al-māīyah', 9), ('10 - ruṣid al-dhayl', 10), ('11 - rumil al-māīyah', 11), ('12 - ‘irāq al-‘ajam', 12), ('13 - gharībat al-ḥusayn', 13)), value=1), Dropdown(index=1, layout=Layout(width='80%'), options=(('aligned graphs (3 octaves)', 0), ('complete graphs', 1)), value=1), Checkbox(value=False, description='Fold graphs', indent=False)))))"
      ]
     },
     "metadata": {},
     "output_type": "display_data"
    },
    {
     "data": {
      "application/vnd.jupyter.widget-view+json": {
       "model_id": "fde69ae5ac0b4e38b54cb6670d4f7212",
       "version_major": 2,
       "version_minor": 0
      },
      "text/html": [
       "<p>Failed to display Jupyter Widget of type <code>interactive</code>.</p>\n",
       "<p>\n",
       "  If you're reading this message in the Jupyter Notebook or JupyterLab Notebook, it may mean\n",
       "  that the widgets JavaScript is still loading. If this message persists, it\n",
       "  likely means that the widgets JavaScript library is either not installed or\n",
       "  not enabled. See the <a href=\"https://ipywidgets.readthedocs.io/en/stable/user_install.html\">Jupyter\n",
       "  Widgets Documentation</a> for setup instructions.\n",
       "</p>\n",
       "<p>\n",
       "  If you're reading this message in another frontend (for example, a static\n",
       "  rendering on GitHub or <a href=\"https://nbviewer.jupyter.org/\">NBViewer</a>),\n",
       "  it may mean that your frontend doesn't currently support widgets.\n",
       "</p>\n"
      ],
      "text/plain": [
       "interactive(children=(Button(description='Run Interact', style=ButtonStyle()), Output()), _dom_classes=('widget-interact',))"
      ]
     },
     "metadata": {},
     "output_type": "display_data"
    }
   ],
   "source": [
    "tc = NawbaComparison(cm)"
   ]
  },
  {
   "cell_type": "markdown",
   "metadata": {},
   "source": [
    "## Test"
   ]
  },
  {
   "cell_type": "code",
   "execution_count": null,
   "metadata": {},
   "outputs": [],
   "source": []
  }
 ],
 "metadata": {
  "kernelspec": {
   "display_name": "Python 3",
   "language": "python",
   "name": "python3"
  },
  "language_info": {
   "codemirror_mode": {
    "name": "ipython",
    "version": 3
   },
   "file_extension": ".py",
   "mimetype": "text/x-python",
   "name": "python",
   "nbconvert_exporter": "python",
   "pygments_lexer": "ipython3",
   "version": "3.5.2"
  }
 },
 "nbformat": 4,
 "nbformat_minor": 2
}
