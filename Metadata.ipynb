{
 "cells": [
  {
   "cell_type": "markdown",
   "metadata": {},
   "source": [
    "# Arab-Andalusian Collection - Metadata\n",
    "With this notebook, it is possible to group, to visualize and to analize metadata in order to extract general statistics. There are four main parts: (1) to analyze all the metadata of the corpus grouped by one of the following characteristics: nawba, tab, mizan and form; (2) to combine two characteristic; (3) to extract overall general metadata; and (4) to analyze a single recording."
   ]
  },
  {
   "cell_type": "markdown",
   "metadata": {},
   "source": [
    "## Inizialization (MANDATORY)\n",
    "In this cell, all the libraries are loaded. \n",
    "Furthermore, a function check if the metadata related to the Arab-Andalusian corpus of Dunya has been downloaded. If necessary, all the metadata will be downloaded. \n",
    "At the end, an object to manage the Dunya metadata is created.\n",
    "\n",
    "#### NB: Before to run, remember to add the dunya token in the costants.py file. This file is in the directory \"utilities\"."
   ]
  },
  {
   "cell_type": "code",
   "execution_count": null,
   "metadata": {},
   "outputs": [],
   "source": [
    "from utilities.recordingcomputation import *\n",
    "from utilities.dunyautilities import *\n",
    "from utilities.metadataStatistics import *\n",
    "from utilities.generalutilities import *\n",
    "\n",
    "from gui.gui_corpora import *\n",
    "from gui.gui_metadata import *\n",
    "\n",
    "# download metadata from Dunya\n",
    "if not check_dunya_metadata():\n",
    "    print(\"Downloading metadata from Dunya...\")\n",
    "    collect_metadata()\n",
    "\n",
    "# create an object with all the well-structured metadata\n",
    "print(\"Analyzing Dunya Metadata...\")\n",
    "cm = CollectionMetadata()\n",
    "print(\"Collection of metadata created\")"
   ]
  },
  {
   "cell_type": "markdown",
   "metadata": {},
   "source": [
    "## Statistics by nawba, tab, mizan and form\n",
    "Running this cell, it is possible to group all the metadata and to extract information for each characteristic (nawba, tab, mizan, and form). For each type in a characteristic, it is possible to visualize the number of recordings and sections of that type, the overall sections time and the average section time. All this value are visualizable in an histogram at the end of the table. \n",
    "#### Visualize - NB: recordings without sections description are not considered."
   ]
  },
  {
   "cell_type": "code",
   "execution_count": null,
   "metadata": {},
   "outputs": [],
   "source": [
    "vd = VisualizeDataframeGui(cm)"
   ]
  },
  {
   "cell_type": "markdown",
   "metadata": {},
   "source": [
    "## Cross Statistics\n",
    "\n",
    "In this cell, it is possible to extract statistics from the combination of two characteristics. \n",
    "\n",
    "#### Visualize - NB: recordings without sections description are not considered"
   ]
  },
  {
   "cell_type": "code",
   "execution_count": null,
   "metadata": {},
   "outputs": [],
   "source": [
    "cr = CrossMetadataVisualization(cm)"
   ]
  },
  {
   "cell_type": "markdown",
   "metadata": {},
   "source": [
    "## General Statistics\n",
    "These statistics are obtained computing all the recordings."
   ]
  },
  {
   "cell_type": "code",
   "execution_count": null,
   "metadata": {},
   "outputs": [],
   "source": [
    "print(\"Overall computable time (only recordings with sections) = \" + get_time(cm.get_overall_sections_time()))\n",
    "print(\"Number of recordings without sections = \" + str(len(cm.mbid_no_sections)) + '/' + str(len(cm.df_recording)) )\n",
    "print(\"Number of recordings without score = \" + str(len(cm.get_recordings_without('musescore_url'))) + '/' + str(len(cm.df_recording)) )\n",
    "# possible value 'archive_url', 'musescore_url', 'title', 'transliterated_title' \n",
    "print(\"Number of recordings without archive_url = \" + str(len(cm.get_recordings_without('archive_url'))) + '/' + str(len(cm.df_recording)) )\n",
    "print()\n",
    "print(\"Recordings with different nawbas in the same track:\" + str(cm.get_recordings_with_diff_('nawba')) )\n",
    "print(\"Recordings with different tab in the same track:\" + str(cm.get_recordings_with_diff_('tab')) )"
   ]
  },
  {
   "cell_type": "markdown",
   "metadata": {},
   "source": [
    "## Single recording information\n",
    "With this cell, it is possible to visualize the recordings in order to find the Musicbrainz id of the recording that will be analyzed."
   ]
  },
  {
   "cell_type": "code",
   "execution_count": null,
   "metadata": {},
   "outputs": [],
   "source": [
    "selector = SelectionGui(cm, 10)"
   ]
  },
  {
   "cell_type": "markdown",
   "metadata": {},
   "source": [
    "Adding a Musicbrainz id in the variable \"rmbid\", it is possible to visualize the characteristcs of the recording."
   ]
  },
  {
   "cell_type": "code",
   "execution_count": null,
   "metadata": {},
   "outputs": [],
   "source": [
    "rmbid = 'b3059282-a235-4fa4-9093-cb16a70d4b5d' # add a MusicBrainz id \n",
    "srv = SingleRecordingVisualization(cm, rmbid)"
   ]
  },
  {
   "cell_type": "markdown",
   "metadata": {},
   "source": [
    "## Test "
   ]
  },
  {
   "cell_type": "code",
   "execution_count": null,
   "metadata": {},
   "outputs": [],
   "source": []
  }
 ],
 "metadata": {
  "kernelspec": {
   "display_name": "Python 3",
   "language": "python",
   "name": "python3"
  },
  "language_info": {
   "codemirror_mode": {
    "name": "ipython",
    "version": 3
   },
   "file_extension": ".py",
   "mimetype": "text/x-python",
   "name": "python",
   "nbconvert_exporter": "python",
   "pygments_lexer": "ipython3",
   "version": "3.5.2"
  }
 },
 "nbformat": 4,
 "nbformat_minor": 2
}
