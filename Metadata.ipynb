{
 "cells": [
  {
   "cell_type": "markdown",
   "metadata": {},
   "source": [
    "# Arab-Andalusian Collection - Metadata"
   ]
  },
  {
   "cell_type": "markdown",
   "metadata": {},
   "source": [
    "## Inizialization (MANDATORY)"
   ]
  },
  {
   "cell_type": "code",
   "execution_count": 1,
   "metadata": {},
   "outputs": [
    {
     "name": "stdout",
     "output_type": "stream",
     "text": [
      "Analyzing Dunya Metadata...\n",
      "Collection of metadata created\n"
     ]
    }
   ],
   "source": [
    "from utilities.recordingcomputation import *\n",
    "from utilities.dunyautilities import *\n",
    "from utilities.metadataStatistics import *\n",
    "from utilities.generalutilities import *\n",
    "\n",
    "from gui.gui_corpora import *\n",
    "from gui.gui_metadata import *\n",
    "\n",
    "# download metadata from Dunya\n",
    "if not check_dunya_metadata():\n",
    "    print(\"Downloading metadata from Dunya...\")\n",
    "    collect_metadata()\n",
    "\n",
    "# create an object with all the well-structured metadata\n",
    "print(\"Analyzing Dunya Metadata...\")\n",
    "cm = CollectionMetadata()\n",
    "print(\"Collection of metadata created\")"
   ]
  },
  {
   "cell_type": "markdown",
   "metadata": {},
   "source": [
    "## Dataframes"
   ]
  },
  {
   "cell_type": "markdown",
   "metadata": {},
   "source": [
    "#### Visualize - NB: recordings without sections description are not considered"
   ]
  },
  {
   "cell_type": "code",
   "execution_count": 2,
   "metadata": {},
   "outputs": [
    {
     "data": {
      "application/vnd.jupyter.widget-view+json": {
       "model_id": "99fdd090a05149b5b556b66fbc2086d6",
       "version_major": 2,
       "version_minor": 0
      },
      "text/html": [
       "<p>Failed to display Jupyter Widget of type <code>VBox</code>.</p>\n",
       "<p>\n",
       "  If you're reading this message in the Jupyter Notebook or JupyterLab Notebook, it may mean\n",
       "  that the widgets JavaScript is still loading. If this message persists, it\n",
       "  likely means that the widgets JavaScript library is either not installed or\n",
       "  not enabled. See the <a href=\"https://ipywidgets.readthedocs.io/en/stable/user_install.html\">Jupyter\n",
       "  Widgets Documentation</a> for setup instructions.\n",
       "</p>\n",
       "<p>\n",
       "  If you're reading this message in another frontend (for example, a static\n",
       "  rendering on GitHub or <a href=\"https://nbviewer.jupyter.org/\">NBViewer</a>),\n",
       "  it may mean that your frontend doesn't currently support widgets.\n",
       "</p>\n"
      ],
      "text/plain": [
       "VBox(children=(VBox(children=(Tab(children=(HBox(children=(VBox(children=(Label(value='id'), Label(value='1'), Label(value='2'), Label(value='3'), Label(value='4'), Label(value='5'), Label(value='6'), Label(value='7'), Label(value='8'), Label(value='9'), Label(value='10'), Label(value='11'), Label(value='12'), Label(value='13'), Label(value='14'), Label(value='15'), Label(value='16'), Label(value='17'), Label(value='18'), Label(value='19'), Label(value='20')), layout=Layout(align_items='stretch', display='flex', flex_flow='column', width='6%')), VBox(children=(Label(value='name'), Label(value='الاستهلال'), Label(value='الاصبهان'), Label(value='الحجاز الكبير'), Label(value='الحجاز المشرقي'), Label(value='الرصد'), Label(value='الزركة'), Label(value='الصيكة'), Label(value='العشاق'), Label(value='الماية'), Label(value='المشرقي'), Label(value='النهاوند'), Label(value='بواكر الماية'), Label(value='خليط الطبوع'), Label(value='رصد الذيل'), Label(value='رصد الذيل مغربي'), Label(value='رمل الماية'), Label(value='عراق العجم'), Label(value='غريبة الحسين'), Label(value='قريب إلى الاستهلال'), Label(value='قريب إلى الماية')), layout=Layout(align_items='stretch', display='flex', flex_flow='column', width='13%')), VBox(children=(Label(value='transliterated_name'), Label(value='al-istihlāl'), Label(value='al-āṣbhān'), Label(value='al-ḥjāz al-kabīr'), Label(value='al-ḥjāz al-mashriqī'), Label(value='al-ruṣṣad'), Label(value='al-zrkh'), Label(value='al-ṣīkh'), Label(value='al-‘ushshāq'), Label(value='al-māīyah'), Label(value='al-mashriqī'), Label(value='al-nhāūnd'), Label(value='bawākir al-māīyah'), Label(value='khalīṭ al-ṭbū‘'), Label(value='ruṣid al-dhayl'), Label(value='ruṣid al-dhayl maghribī'), Label(value='rumil al-māīyah'), Label(value='‘irāq al-‘ajam'), Label(value='gharībat al-ḥusayn'), Label(value='qarībun ilá al-istihlāl'), Label(value='qarībun ilá al-māīyah')), layout=Layout(align_items='stretch', display='flex', flex_flow='column', width='21%')), VBox(children=(Label(value='# recordings'), Label(value='23'), Label(value='14'), Label(value='10'), Label(value='5'), Label(value='10'), Label(value='4'), Label(value='1'), Label(value='7'), Label(value='12'), Label(value='10'), Label(value='2'), Label(value='2'), Label(value='1'), Label(value='17'), Label(value='1'), Label(value='19'), Label(value='7'), Label(value='12'), Label(value='1'), Label(value='1')), layout=Layout(align_items='stretch', display='flex', flex_flow='column', width='13%')), VBox(children=(Label(value='# sections'), Label(value='146'), Label(value='72'), Label(value='49'), Label(value='25'), Label(value='55'), Label(value='6'), Label(value='1'), Label(value='40'), Label(value='73'), Label(value='57'), Label(value='3'), Label(value='11'), Label(value='1'), Label(value='89'), Label(value='2'), Label(value='95'), Label(value='41'), Label(value='77'), Label(value='2'), Label(value='2')), layout=Layout(align_items='stretch', display='flex', flex_flow='column', width='13%')), VBox(children=(Label(value='overall sections time'), Label(value='17:10:34'), Label(value='9:38:37'), Label(value='5:41:10'), Label(value='3:09:51'), Label(value='7:01:57'), Label(value='0:31:59'), Label(value='0:07:11'), Label(value='4:35:26'), Label(value='9:16:06'), Label(value='4:08:40'), Label(value='0:13:58'), Label(value='1:23:16'), Label(value='0:07:03'), Label(value='12:08:18'), Label(value='0:08:29'), Label(value='13:11:37'), Label(value='4:08:54'), Label(value='7:07:09'), Label(value='0:09:41'), Label(value='0:11:05')), layout=Layout(align_items='stretch', display='flex', flex_flow='column', width='13%')), VBox(children=(Label(value='avg sections time'), Label(value='0:07:03'), Label(value='0:08:02'), Label(value='0:06:57'), Label(value='0:07:35'), Label(value='0:07:40'), Label(value='0:05:19'), Label(value='0:07:11'), Label(value='0:06:53'), Label(value='0:07:37'), Label(value='0:04:21'), Label(value='0:04:39'), Label(value='0:07:34'), Label(value='0:07:03'), Label(value='0:08:10'), Label(value='0:04:14'), Label(value='0:08:19'), Label(value='0:06:04'), Label(value='0:05:32'), Label(value='0:04:50'), Label(value='0:05:32')), layout=Layout(align_items='stretch', display='flex', flex_flow='column', width='13%')))), HBox(children=(VBox(children=(Label(value='id'), Label(value='1'), Label(value='2'), Label(value='3'), Label(value='4'), Label(value='5'), Label(value='6'), Label(value='7'), Label(value='8'), Label(value='9'), Label(value='10'), Label(value='11'), Label(value='12'), Label(value='13')), layout=Layout(align_items='stretch', display='flex', flex_flow='column', width='6%')), VBox(children=(Label(value='name'), Label(value='الاستهلال'), Label(value='الاصبهان'), Label(value='الحجاز الكبير'), Label(value='الحجاز المشرقي'), Label(value='الرصد'), Label(value='العشاق'), Label(value='الماية'), Label(value='بدون'), Label(value='بواكر الماية'), Label(value='رصد الذيل'), Label(value='رمل الماية'), Label(value='عراق العجم'), Label(value='غريبة الحسين')), layout=Layout(align_items='stretch', display='flex', flex_flow='column', width='13%')), VBox(children=(Label(value='transliterated_name'), Label(value='al-istihlāl'), Label(value='al-āṣbhān'), Label(value='al-ḥjāz al-kabīr'), Label(value='al-ḥjāz al-mashriqī'), Label(value='al-ruṣṣad'), Label(value='al-‘ushshāq'), Label(value='al-māīyah'), Label(value='bidūn'), Label(value='bawākir al-māīyah'), Label(value='ruṣid al-dhayl'), Label(value='rumil al-māīyah'), Label(value='‘irāq al-‘ajam'), Label(value='gharībat al-ḥusayn')), layout=Layout(align_items='stretch', display='flex', flex_flow='column', width='21%')), VBox(children=(Label(value='# recordings'), Label(value='22'), Label(value='13'), Label(value='7'), Label(value='14'), Label(value='10'), Label(value='7'), Label(value='12'), Label(value='21'), Label(value='2'), Label(value='17'), Label(value='16'), Label(value='7'), Label(value='11')), layout=Layout(align_items='stretch', display='flex', flex_flow='column', width='13%')), VBox(children=(Label(value='# sections'), Label(value='143'), Label(value='71'), Label(value='46'), Label(value='81'), Label(value='55'), Label(value='40'), Label(value='73'), Label(value='32'), Label(value='11'), Label(value='89'), Label(value='90'), Label(value='41'), Label(value='75')), layout=Layout(align_items='stretch', display='flex', flex_flow='column', width='13%')), VBox(children=(Label(value='overall sections time'), Label(value='17:00:45'), Label(value='9:27:14'), Label(value='5:21:57'), Label(value='7:12:47'), Label(value='7:01:57'), Label(value='4:35:26'), Label(value='9:16:06'), Label(value='2:56:07'), Label(value='1:23:16'), Label(value='12:08:18'), Label(value='12:43:54'), Label(value='4:08:54'), Label(value='6:54:20')), layout=Layout(align_items='stretch', display='flex', flex_flow='column', width='13%')), VBox(children=(Label(value='avg sections time'), Label(value='0:07:08'), Label(value='0:07:59'), Label(value='0:06:59'), Label(value='0:05:20'), Label(value='0:07:40'), Label(value='0:06:53'), Label(value='0:07:37'), Label(value='0:05:30'), Label(value='0:07:34'), Label(value='0:08:10'), Label(value='0:08:29'), Label(value='0:06:04'), Label(value='0:05:31')), layout=Layout(align_items='stretch', display='flex', flex_flow='column', width='13%')))), HBox(children=(VBox(children=(Label(value='id'), Label(value='1'), Label(value='2'), Label(value='3'), Label(value='4'), Label(value='5'), Label(value='6'), Label(value='7'), Label(value='8'), Label(value='9'), Label(value='10'), Label(value='11')), layout=Layout(align_items='stretch', display='flex', flex_flow='column', width='6%')), VBox(children=(Label(value='name'), Label(value='بدون'), Label(value='بسيط'), Label(value='بطايحي'), Label(value='ثلاثي'), Label(value='ثنائي'), Label(value='ثنائي وبطايحي'), Label(value='حضّاري'), Label(value='درج'), Label(value='زنداني وقدام'), Label(value='قائم ونصف'), Label(value='قدام')), layout=Layout(align_items='stretch', display='flex', flex_flow='column', width='13%')), VBox(children=(Label(value='transliterated_name'), Label(value='bidūn'), Label(value='basīṭ'), Label(value='bṭāyḥī'), Label(value='thulāthī'), Label(value='thunā’ī'), Label(value='thunā’ī wbṭāyḥī'), Label(value='ḥḍḍārī'), Label(value='darij'), Label(value='zanadānī waqdām'), Label(value='qā’imun wanuṣf'), Label(value='qdām')), layout=Layout(align_items='stretch', display='flex', flex_flow='column', width='21%')), VBox(children=(Label(value='# recordings'), Label(value='134'), Label(value='33'), Label(value='46'), Label(value='2'), Label(value='30'), Label(value='1'), Label(value='1'), Label(value='7'), Label(value='5'), Label(value='23'), Label(value='65')), layout=Layout(align_items='stretch', display='flex', flex_flow='column', width='13%')), VBox(children=(Label(value='# sections'), Label(value='280'), Label(value='105'), Label(value='115'), Label(value='2'), Label(value='50'), Label(value='1'), Label(value='1'), Label(value='17'), Label(value='5'), Label(value='97'), Label(value='174')), layout=Layout(align_items='stretch', display='flex', flex_flow='column', width='13%')), VBox(children=(Label(value='overall sections time'), Label(value='9:35:59'), Label(value='22:16:08'), Label(value='23:30:45'), Label(value='0:06:09'), Label(value='2:10:25'), Label(value='0:05:17'), Label(value='0:10:24'), Label(value='2:42:26'), Label(value='0:50:42'), Label(value='14:56:07'), Label(value='23:46:39')), layout=Layout(align_items='stretch', display='flex', flex_flow='column', width='13%')), VBox(children=(Label(value='avg sections time'), Label(value='0:02:03'), Label(value='0:12:43'), Label(value='0:12:16'), Label(value='0:03:04'), Label(value='0:02:36'), Label(value='0:05:17'), Label(value='0:10:24'), Label(value='0:09:33'), Label(value='0:10:08'), Label(value='0:09:14'), Label(value='0:08:11')), layout=Layout(align_items='stretch', display='flex', flex_flow='column', width='13%')))), HBox(children=(VBox(children=(Label(value='id'), Label(value='1'), Label(value='2'), Label(value='3'), Label(value='4'), Label(value='5'), Label(value='6'), Label(value='7'), Label(value='8'), Label(value='9'), Label(value='10'), Label(value='11'), Label(value='12'), Label(value='13'), Label(value='14'), Label(value='15'), Label(value='16'), Label(value='17'), Label(value='18'), Label(value='19'), Label(value='20'), Label(value='21'), Label(value='22'), Label(value='23'), Label(value='24'), Label(value='25'), Label(value='26'), Label(value='27'), Label(value='28'), Label(value='29'), Label(value='30'), Label(value='31')), layout=Layout(align_items='stretch', display='flex', flex_flow='column', width='6%')), VBox(children=(Label(value='name'), Label(value='إنشاد'), Label(value='الانصراف'), Label(value='البغية'), Label(value='التواشي السبع (دون الأولى والسابعة)'), Label(value='التوشية الأولى'), Label(value='التوشية الأولى للنوبة'), Label(value='التوشية الأولى والثانية للنوبة'), Label(value='التوشية الثالثة'), Label(value='التوشية الثالثة للنوبة'), Label(value='التوشية الثانية'), Label(value='التوشية الثانية  للنوبة'), Label(value='التوشية الثانية لنوبة الاستهلال'), Label(value='التوشية الخامسة'), Label(value='التوشية الرابعة'), Label(value='التوشية السابعة'), Label(value='التوشية السادسة'), Label(value='المشالية'), Label(value='المهزوز'), Label(value='المهزوز الأول'), Label(value='المهزوز الثاني'), Label(value='الموسع'), Label(value='انصراف البسيط'), Label(value='تقسيم'), Label(value='توشية الميزان'), Label(value='توشية الميزان (بالقول)'), Label(value='توشية النوبة'), Label(value='توشية النوبة (بالقول)'), Label(value='صامت رصد الذيل'), Label(value='صنعة'), Label(value='مشالية'), Label(value='موال')), layout=Layout(align_items='stretch', display='flex', flex_flow='column', width='13%')), VBox(children=(Label(value='transliterated_name'), Label(value='inshād'), Label(value='al-inṣirāf'), Label(value='al-baghīyah'), Label(value='al-tūāshī al-sab‘ ( dūn al-ūlá wal-sāb‘ahi)'), Label(value='al-tawshīh al-ūlá'), Label(value='al-tawshīh al-ūlá lilnnūbah'), Label(value='al-tawshīh al-ūlá wal-thāniyah lilnnūbah'), Label(value='al-tawshīh al-thālithah'), Label(value='al-tawshīh al-thālithah lilnnūbah'), Label(value='al-tawshīh al-thāniyah'), Label(value='al-tawshīh al-thāniyah lilnnūbah'), Label(value='al-tawshīh al-thāniyah linūbat al-istihlāl'), Label(value='al-tawshīh al-khāmsah'), Label(value='al-tawshīh al-rāb‘ah'), Label(value='al-tawshīh al-sāb‘ah'), Label(value='al-tawshīh al-sādsah'), Label(value='al-mashālīyah'), Label(value='al-mahzūz'), Label(value='al-mahzūz al-awl'), Label(value='al-mahzūz al-thānī'), Label(value='al-mūssi‘'), Label(value='inṣirāf al-basīṭ'), Label(value='taqsīm'), Label(value='tawshīt al-mīzān'), Label(value='tawshīt al-mīzān ( bi-al-qawli)'), Label(value='tawshīt al-nūbah'), Label(value='tawshīt al-nūbah ( bi-al-qawli)'), Label(value='ṣāmat ruṣṣad al-dhayl'), Label(value='ṣn‘h'), Label(value='mashālīyah'), Label(value='mawwāl')), layout=Layout(align_items='stretch', display='flex', flex_flow='column', width='21%')), VBox(children=(Label(value='# recordings'), Label(value='75'), Label(value='150'), Label(value='0'), Label(value='1'), Label(value='2'), Label(value='4'), Label(value='0'), Label(value='2'), Label(value='1'), Label(value='2'), Label(value='3'), Label(value='1'), Label(value='2'), Label(value='2'), Label(value='2'), Label(value='2'), Label(value='122'), Label(value='47'), Label(value='46'), Label(value='45'), Label(value='122'), Label(value='1'), Label(value='19'), Label(value='50'), Label(value='1'), Label(value='24'), Label(value='1'), Label(value='1'), Label(value='0'), Label(value='2'), Label(value='16')), layout=Layout(align_items='stretch', display='flex', flex_flow='column', width='13%')), VBox(children=(Label(value='# sections'), Label(value='75'), Label(value='177'), Label(value='0'), Label(value='1'), Label(value='2'), Label(value='4'), Label(value='0'), Label(value='2'), Label(value='1'), Label(value='2'), Label(value='3'), Label(value='1'), Label(value='2'), Label(value='2'), Label(value='2'), Label(value='2'), Label(value='165'), Label(value='49'), Label(value='48'), Label(value='47'), Label(value='138'), Label(value='1'), Label(value='22'), Label(value='50'), Label(value='1'), Label(value='29'), Label(value='1'), Label(value='1'), Label(value='0'), Label(value='3'), Label(value='16')), layout=Layout(align_items='stretch', display='flex', flex_flow='column', width='13%')), VBox(children=(Label(value='overall sections time'), Label(value='2:43:52'), Label(value='25:25:38'), Label(value='0:00:00'), Label(value='0:11:12'), Label(value='0:25:02'), Label(value='0:10:12'), Label(value='0:00:00'), Label(value='0:02:24'), Label(value='0:01:34'), Label(value='0:04:37'), Label(value='0:09:59'), Label(value='0:03:03'), Label(value='0:00:59'), Label(value='0:01:03'), Label(value='0:06:09'), Label(value='0:03:59'), Label(value='4:38:57'), Label(value='5:32:33'), Label(value='5:36:08'), Label(value='3:28:44'), Label(value='46:08:07'), Label(value='0:09:20'), Label(value='0:43:54'), Label(value='1:42:49'), Label(value='0:02:55'), Label(value='0:57:20'), Label(value='0:02:53'), Label(value='0:05:17'), Label(value='0:00:00'), Label(value='0:05:09'), Label(value='1:27:12')), layout=Layout(align_items='stretch', display='flex', flex_flow='column', width='13%')), VBox(children=(Label(value='avg sections time'), Label(value='0:02:11'), Label(value='0:08:37'), Label(value='0:00:00'), Label(value='0:11:12'), Label(value='0:12:31'), Label(value='0:02:33'), Label(value='0:00:00'), Label(value='0:01:12'), Label(value='0:01:34'), Label(value='0:02:18'), Label(value='0:03:19'), Label(value='0:03:03'), Label(value='0:00:29'), Label(value='0:00:31'), Label(value='0:03:04'), Label(value='0:01:59'), Label(value='0:01:41'), Label(value='0:06:47'), Label(value='0:07:00'), Label(value='0:04:26'), Label(value='0:20:03'), Label(value='0:09:20'), Label(value='0:01:59'), Label(value='0:02:03'), Label(value='0:02:55'), Label(value='0:01:58'), Label(value='0:02:53'), Label(value='0:05:17'), Label(value='0:00:00'), Label(value='0:01:43'), Label(value='0:05:27')), layout=Layout(align_items='stretch', display='flex', flex_flow='column', width='13%'))))), _titles={'1': 'Nawbas', '3': 'Forms', '0': 'Tabs', '2': 'Myazen'}),)), Label(value='Select the type of data:'), interactive(children=(Dropdown(description='type', index=1, options=('# recordings', '# sections', 'overall sections time', 'avg sections time'), value='# sections'), Dropdown(description='tab', layout=Layout(display='none'), options=('tab', 'nawba', 'mizan', 'form'), value='tab'), Output()), _dom_classes=('widget-interact',))))"
      ]
     },
     "metadata": {},
     "output_type": "display_data"
    }
   ],
   "source": [
    "vd = VisualizeDataframeGui(cm)"
   ]
  },
  {
   "cell_type": "markdown",
   "metadata": {},
   "source": [
    "## Cross Metadata"
   ]
  },
  {
   "cell_type": "markdown",
   "metadata": {},
   "source": [
    "#### Visualize - NB: recordings without sections description are not considered"
   ]
  },
  {
   "cell_type": "code",
   "execution_count": 3,
   "metadata": {},
   "outputs": [
    {
     "data": {
      "application/vnd.jupyter.widget-view+json": {
       "model_id": "4e5e6fd7e7244728847cdb809803a70b",
       "version_major": 2,
       "version_minor": 0
      },
      "text/html": [
       "<p>Failed to display Jupyter Widget of type <code>VBox</code>.</p>\n",
       "<p>\n",
       "  If you're reading this message in the Jupyter Notebook or JupyterLab Notebook, it may mean\n",
       "  that the widgets JavaScript is still loading. If this message persists, it\n",
       "  likely means that the widgets JavaScript library is either not installed or\n",
       "  not enabled. See the <a href=\"https://ipywidgets.readthedocs.io/en/stable/user_install.html\">Jupyter\n",
       "  Widgets Documentation</a> for setup instructions.\n",
       "</p>\n",
       "<p>\n",
       "  If you're reading this message in another frontend (for example, a static\n",
       "  rendering on GitHub or <a href=\"https://nbviewer.jupyter.org/\">NBViewer</a>),\n",
       "  it may mean that your frontend doesn't currently support widgets.\n",
       "</p>\n"
      ],
      "text/plain": [
       "VBox(children=(HBox(children=(VBox(children=(Label(value='Column:'), Dropdown(layout=Layout(width='180px'), options=('tab', 'nawba', 'mizan', 'form'), value='tab'))), VBox(children=(Label(value='Row: '), Dropdown(index=1, layout=Layout(width='180px'), options=('tab', 'nawba', 'mizan', 'form'), value='nawba'))), VBox(children=(Label(value='Title: '), Dropdown(layout=Layout(width='180px'), options=('id', 'name', 'transliterated_name'), value='id'))), VBox(children=(Label(value='Statistic:'), Dropdown(layout=Layout(width='180px'), options=('# recordings', '# sections', 'overall sections time', 'avg sections time'), value='# recordings'))))), Label(value='Results:', description='Results:'), VBox(children=(HBox(children=(VBox(children=(Label(value='tab /\\nnawba'), Label(value='1'), Label(value='2'), Label(value='3'), Label(value='4'), Label(value='5'), Label(value='6'), Label(value='7'), Label(value='8'), Label(value='9'), Label(value='10'), Label(value='11'), Label(value='12'), Label(value='13')), layout=Layout(min_width='70px')), VBox(children=(Label(value='1'), Box(children=(Label(value='22'),), layout=Layout(border='solid 1px red')), Label(value='0'), Label(value='0'), Label(value='0'), Label(value='0'), Label(value='0'), Label(value='0'), Box(children=(Label(value='1'),), layout=Layout(border='solid 1px red')), Label(value='0'), Label(value='0'), Label(value='0'), Label(value='0'), Label(value='0')), layout=Layout(min_width='70px')), VBox(children=(Label(value='2'), Label(value='0'), Box(children=(Label(value='13'),), layout=Layout(border='solid 1px red')), Label(value='0'), Label(value='0'), Label(value='0'), Label(value='0'), Label(value='0'), Box(children=(Label(value='1'),), layout=Layout(border='solid 1px red')), Label(value='0'), Label(value='0'), Label(value='0'), Label(value='0'), Label(value='0')), layout=Layout(min_width='70px')), VBox(children=(Label(value='3'), Label(value='0'), Label(value='0'), Box(children=(Label(value='7'),), layout=Layout(border='solid 1px red')), Label(value='0'), Label(value='0'), Label(value='0'), Label(value='0'), Box(children=(Label(value='3'),), layout=Layout(border='solid 1px red')), Label(value='0'), Label(value='0'), Label(value='0'), Label(value='0'), Label(value='0')), layout=Layout(min_width='70px')), VBox(children=(Label(value='4'), Label(value='0'), Label(value='0'), Label(value='0'), Box(children=(Label(value='5'),), layout=Layout(border='solid 1px red')), Label(value='0'), Label(value='0'), Label(value='0'), Label(value='0'), Label(value='0'), Label(value='0'), Label(value='0'), Label(value='0'), Label(value='0')), layout=Layout(min_width='70px')), VBox(children=(Label(value='5'), Label(value='0'), Label(value='0'), Label(value='0'), Label(value='0'), Box(children=(Label(value='10'),), layout=Layout(border='solid 1px red')), Label(value='0'), Label(value='0'), Label(value='0'), Label(value='0'), Label(value='0'), Label(value='0'), Label(value='0'), Label(value='0')), layout=Layout(min_width='70px')), VBox(children=(Label(value='6'), Label(value='0'), Label(value='0'), Label(value='0'), Label(value='0'), Label(value='0'), Label(value='0'), Label(value='0'), Box(children=(Label(value='4'),), layout=Layout(border='solid 1px red')), Label(value='0'), Label(value='0'), Label(value='0'), Label(value='0'), Label(value='0')), layout=Layout(min_width='70px')), VBox(children=(Label(value='7'), Label(value='0'), Label(value='0'), Label(value='0'), Label(value='0'), Label(value='0'), Label(value='0'), Label(value='0'), Box(children=(Label(value='1'),), layout=Layout(border='solid 1px red')), Label(value='0'), Label(value='0'), Label(value='0'), Label(value='0'), Label(value='0')), layout=Layout(min_width='70px')), VBox(children=(Label(value='8'), Label(value='0'), Label(value='0'), Label(value='0'), Label(value='0'), Label(value='0'), Box(children=(Label(value='7'),), layout=Layout(border='solid 1px red')), Label(value='0'), Label(value='0'), Label(value='0'), Label(value='0'), Label(value='0'), Label(value='0'), Label(value='0')), layout=Layout(min_width='70px')), VBox(children=(Label(value='9'), Label(value='0'), Label(value='0'), Label(value='0'), Label(value='0'), Label(value='0'), Label(value='0'), Box(children=(Label(value='12'),), layout=Layout(border='solid 1px red')), Label(value='0'), Label(value='0'), Label(value='0'), Label(value='0'), Label(value='0'), Label(value='0')), layout=Layout(min_width='70px')), VBox(children=(Label(value='10'), Label(value='0'), Label(value='0'), Label(value='0'), Box(children=(Label(value='9'),), layout=Layout(border='solid 1px red')), Label(value='0'), Label(value='0'), Label(value='0'), Box(children=(Label(value='1'),), layout=Layout(border='solid 1px red')), Label(value='0'), Label(value='0'), Label(value='0'), Label(value='0'), Label(value='0')), layout=Layout(min_width='70px')), VBox(children=(Label(value='11'), Label(value='0'), Label(value='0'), Label(value='0'), Label(value='0'), Label(value='0'), Label(value='0'), Label(value='0'), Box(children=(Label(value='2'),), layout=Layout(border='solid 1px red')), Label(value='0'), Label(value='0'), Label(value='0'), Label(value='0'), Label(value='0')), layout=Layout(min_width='70px')), VBox(children=(Label(value='12'), Label(value='0'), Label(value='0'), Label(value='0'), Label(value='0'), Label(value='0'), Label(value='0'), Label(value='0'), Label(value='0'), Box(children=(Label(value='1'),), layout=Layout(border='solid 1px red')), Label(value='0'), Label(value='0'), Label(value='0'), Label(value='0')), layout=Layout(min_width='70px')), VBox(children=(Label(value='13'), Label(value='0'), Label(value='0'), Label(value='0'), Label(value='0'), Label(value='0'), Label(value='0'), Label(value='0'), Box(children=(Label(value='1'),), layout=Layout(border='solid 1px red')), Label(value='0'), Label(value='0'), Label(value='0'), Label(value='0'), Label(value='0')), layout=Layout(min_width='70px')), VBox(children=(Label(value='14'), Label(value='0'), Label(value='0'), Label(value='0'), Label(value='0'), Label(value='0'), Label(value='0'), Label(value='0'), Label(value='0'), Label(value='0'), Box(children=(Label(value='17'),), layout=Layout(border='solid 1px red')), Label(value='0'), Label(value='0'), Label(value='0')), layout=Layout(min_width='70px')), VBox(children=(Label(value='15'), Label(value='0'), Label(value='0'), Label(value='0'), Label(value='0'), Label(value='0'), Label(value='0'), Label(value='0'), Box(children=(Label(value='1'),), layout=Layout(border='solid 1px red')), Label(value='0'), Label(value='0'), Label(value='0'), Label(value='0'), Label(value='0')), layout=Layout(min_width='70px')), VBox(children=(Label(value='16'), Label(value='0'), Label(value='0'), Label(value='0'), Label(value='0'), Label(value='0'), Label(value='0'), Label(value='0'), Box(children=(Label(value='3'),), layout=Layout(border='solid 1px red')), Label(value='0'), Label(value='0'), Box(children=(Label(value='16'),), layout=Layout(border='solid 1px red')), Label(value='0'), Label(value='0')), layout=Layout(min_width='70px')), VBox(children=(Label(value='17'), Label(value='0'), Label(value='0'), Label(value='0'), Label(value='0'), Label(value='0'), Label(value='0'), Label(value='0'), Label(value='0'), Label(value='0'), Label(value='0'), Label(value='0'), Box(children=(Label(value='7'),), layout=Layout(border='solid 1px red')), Label(value='0')), layout=Layout(min_width='70px')), VBox(children=(Label(value='18'), Label(value='0'), Label(value='0'), Label(value='0'), Label(value='0'), Label(value='0'), Label(value='0'), Label(value='0'), Box(children=(Label(value='1'),), layout=Layout(border='solid 1px red')), Label(value='0'), Label(value='0'), Label(value='0'), Label(value='0'), Box(children=(Label(value='11'),), layout=Layout(border='solid 1px red'))), layout=Layout(min_width='70px')), VBox(children=(Label(value='19'), Label(value='0'), Label(value='0'), Label(value='0'), Label(value='0'), Label(value='0'), Label(value='0'), Label(value='0'), Box(children=(Label(value='1'),), layout=Layout(border='solid 1px red')), Label(value='0'), Label(value='0'), Label(value='0'), Label(value='0'), Label(value='0')), layout=Layout(min_width='70px')), VBox(children=(Label(value='20'), Label(value='0'), Label(value='0'), Label(value='0'), Label(value='0'), Label(value='0'), Label(value='0'), Label(value='0'), Box(children=(Label(value='1'),), layout=Layout(border='solid 1px red')), Label(value='0'), Label(value='0'), Label(value='0'), Label(value='0'), Label(value='0')), layout=Layout(min_width='70px')))),))))"
      ]
     },
     "metadata": {},
     "output_type": "display_data"
    }
   ],
   "source": [
    "cr = CrossMetadataVisualization(cm)"
   ]
  },
  {
   "cell_type": "markdown",
   "metadata": {},
   "source": [
    "## General Metadata"
   ]
  },
  {
   "cell_type": "code",
   "execution_count": 4,
   "metadata": {},
   "outputs": [
    {
     "name": "stdout",
     "output_type": "stream",
     "text": [
      "Overall computable time (only recordings with sections) = 100:11:01\n",
      "Number of recordings without sections = 6/164\n",
      "Number of recordings without score = 6/164\n",
      "Number of recordings without archive_url = 6/164\n",
      "\n",
      "Recordings with different nawbas in the same track:['0386e377-7212-43e5-89b6-7f4c42d0ae74']\n",
      "Recordings with different tab in the same track:['0386e377-7212-43e5-89b6-7f4c42d0ae74']\n"
     ]
    }
   ],
   "source": [
    "print(\"Overall computable time (only recordings with sections) = \" + get_time(cm.get_overall_sections_time()))\n",
    "print(\"Number of recordings without sections = \" + str(len(cm.mbid_no_sections)) + '/' + str(len(cm.df_recording)) )\n",
    "print(\"Number of recordings without score = \" + str(len(cm.get_recordings_without('musescore_url'))) + '/' + str(len(cm.df_recording)) )\n",
    "# possible value 'archive_url', 'musescore_url', 'title', 'transliterated_title' \n",
    "print(\"Number of recordings without archive_url = \" + str(len(cm.get_recordings_without('archive_url'))) + '/' + str(len(cm.df_recording)) )\n",
    "print()\n",
    "print(\"Recordings with different nawbas in the same track:\" + str(cm.get_recordings_with_diff_('nawba')) )\n",
    "print(\"Recordings with different tab in the same track:\" + str(cm.get_recordings_with_diff_('tab')) )"
   ]
  },
  {
   "cell_type": "markdown",
   "metadata": {},
   "source": [
    "## Select a list of recordings"
   ]
  },
  {
   "cell_type": "code",
   "execution_count": null,
   "metadata": {},
   "outputs": [],
   "source": [
    "selector = SelectionGui(cm, 10)"
   ]
  },
  {
   "cell_type": "markdown",
   "metadata": {},
   "source": [
    "## Single recording information"
   ]
  },
  {
   "cell_type": "code",
   "execution_count": null,
   "metadata": {},
   "outputs": [],
   "source": [
    "rmbid = 'b3059282-a235-4fa4-9093-cb16a70d4b5d' # add a MusicBrainz id \n",
    "srv = SingleRecordingVisualization(cm, rmbid)"
   ]
  },
  {
   "cell_type": "code",
   "execution_count": 5,
   "metadata": {},
   "outputs": [
    {
     "data": {
      "application/vnd.jupyter.widget-view+json": {
       "model_id": "944f7222ed28468cad4a6345ef5c21cc",
       "version_major": 2,
       "version_minor": 0
      },
      "text/html": [
       "<p>Failed to display Jupyter Widget of type <code>VBox</code>.</p>\n",
       "<p>\n",
       "  If you're reading this message in the Jupyter Notebook or JupyterLab Notebook, it may mean\n",
       "  that the widgets JavaScript is still loading. If this message persists, it\n",
       "  likely means that the widgets JavaScript library is either not installed or\n",
       "  not enabled. See the <a href=\"https://ipywidgets.readthedocs.io/en/stable/user_install.html\">Jupyter\n",
       "  Widgets Documentation</a> for setup instructions.\n",
       "</p>\n",
       "<p>\n",
       "  If you're reading this message in another frontend (for example, a static\n",
       "  rendering on GitHub or <a href=\"https://nbviewer.jupyter.org/\">NBViewer</a>),\n",
       "  it may mean that your frontend doesn't currently support widgets.\n",
       "</p>\n"
      ],
      "text/plain": [
       "VBox(children=(Label(value='MBID: 761e7fe4-871a-4f3e-8128-1cd1885d5288'), HBox(children=(VBox(children=(Label(value='section'), Label(value='0'), Label(value='1'), Label(value='2'), Label(value='3'), Label(value='4')), layout=Layout(align_items='stretch', display='flex', flex_flow='column', width='12%')), VBox(children=(Label(value='tab'), Label(value='17'), Label(value='17'), Label(value='17'), Label(value='17'), Label(value='17')), layout=Layout(align_items='stretch', display='flex', flex_flow='column', width='12%')), VBox(children=(Label(value='nawba'), Label(value='12'), Label(value='12'), Label(value='12'), Label(value='12'), Label(value='12')), layout=Layout(align_items='stretch', display='flex', flex_flow='column', width='12%')), VBox(children=(Label(value='mizan'), Label(value='1'), Label(value='3'), Label(value='11'), Label(value='11'), Label(value='11')), layout=Layout(align_items='stretch', display='flex', flex_flow='column', width='12%')), VBox(children=(Label(value='form'), Label(value='26'), Label(value='2'), Label(value='24'), Label(value='21'), Label(value='2')), layout=Layout(align_items='stretch', display='flex', flex_flow='column', width='12%')), VBox(children=(Label(value='start_time'), Label(value='26'), Label(value='123'), Label(value='193'), Label(value='271'), Label(value='691')), layout=Layout(align_items='stretch', display='flex', flex_flow='column', width='12%')), VBox(children=(Label(value='end_time'), Label(value='122'), Label(value='193'), Label(value='270'), Label(value='691'), Label(value='1145')), layout=Layout(align_items='stretch', display='flex', flex_flow='column', width='12%')), VBox(children=(Label(value='duration'), Label(value='96'), Label(value='70'), Label(value='77'), Label(value='420'), Label(value='454')), layout=Layout(align_items='stretch', display='flex', flex_flow='column', width='12%'))))))"
      ]
     },
     "metadata": {},
     "output_type": "display_data"
    }
   ],
   "source": [
    "rmbid = '761e7fe4-871a-4f3e-8128-1cd1885d5288' # add a MusicBrainz id \n",
    "srv = SingleRecordingVisualization(cm, rmbid)"
   ]
  },
  {
   "cell_type": "markdown",
   "metadata": {},
   "source": [
    "## Test "
   ]
  },
  {
   "cell_type": "code",
   "execution_count": null,
   "metadata": {},
   "outputs": [],
   "source": [
    "import csv\n",
    "\n",
    "TAB_DATASET = [1, 2, 3, 5, 9, 10, 14, 16, 18]\n",
    "\n",
    "element_list = list()\n",
    "\n",
    "for tab in TAB_DATASET:\n",
    "    rmbid_list = cm.search_recording(tab, 'all', 'all', 'all')\n",
    "    #destination = os.path.join(DATA_DIR, \"Raw Dataset\", str(tab))\n",
    "    #if not os.path.exists(destination):\n",
    "    #    os.makedirs(destination)\n",
    "    for rmbid in rmbid_list:\n",
    "    #    origin_file = os.path.join(RECORDINGS_DIR, rmbid, \"{}.mp3\".format(rmbid))\n",
    "    #    copyfile(origin_file, os.path.join(destination,\"{}.mp3\".format(rmbid)))\n",
    "        element_list.append([rmbid, tab]) \n",
    "        \n",
    "#with open(\"raw_dataset.csv\", \"w\") as f:\n",
    "#    writer = csv.writer(f)  \n",
    "#    for element in element_list:\n",
    "#        writer.writerow(element)\n"
   ]
  },
  {
   "cell_type": "code",
   "execution_count": null,
   "metadata": {},
   "outputs": [],
   "source": [
    "cm.df_description"
   ]
  },
  {
   "cell_type": "code",
   "execution_count": null,
   "metadata": {},
   "outputs": [],
   "source": [
    "element_list = list()\n",
    "\n",
    "for i in range(len(element_list)):\n",
    "    tot = 0\n",
    "    for row in cm.df_description.index.tolist():   \n",
    "        if cm.df_description.loc[row,'mbid'] == element_list[i][0]:\n",
    "            tot += cm.df_description.loc[row,'duration']\n",
    "    time_element_list.append([element_list[i][0],element_list[i][1], tot])\n",
    "print(time_element_list)"
   ]
  },
  {
   "cell_type": "code",
   "execution_count": null,
   "metadata": {},
   "outputs": [],
   "source": [
    "time_element_list"
   ]
  },
  {
   "cell_type": "code",
   "execution_count": null,
   "metadata": {},
   "outputs": [],
   "source": [
    "with open(\"raw_dataset_durations.csv\", \"w\") as f:\n",
    "    writer = csv.writer(f)  \n",
    "    for element in time_element_list:\n",
    "        writer.writerow(element)"
   ]
  },
  {
   "cell_type": "code",
   "execution_count": null,
   "metadata": {},
   "outputs": [],
   "source": [
    "nawba_list = [6, 12]\n",
    "\n",
    "rmbid_list = list()\n",
    "for nawba in nawba_list:\n",
    "    rmbid_list += search_recording(\"all\", nawba, \"all\", \"all\")\n",
    "    \n",
    "    \n",
    "\n",
    "sections_list = list()\n",
    "for nawba in range(1,14):\n",
    "    sections_list.append(\"Nawba {}\".format(nawba))\n",
    "    rmbid_list = cm.search_recording(\"all\", nawba, \"all\", \"all\")\n",
    "    for mbid in rmbid_list:\n",
    "        section_counter = 0\n",
    "        for row_index in cm.df_description.index.values.tolist():\n",
    "            if cm.df_description.loc[row_index, \"mbid\"] == mbid:\n",
    "                section_counter += 1\n",
    "        sections_list.append(\"{} - {}\".format(mbid, section_counter))"
   ]
  },
  {
   "cell_type": "code",
   "execution_count": null,
   "metadata": {},
   "outputs": [],
   "source": [
    "with open(\"raw_dataset_sections.csv\", \"w\") as f:\n",
    "    writer = csv.writer(f)  \n",
    "    for element in sections_list:\n",
    "        writer.writerow(element)"
   ]
  },
  {
   "cell_type": "code",
   "execution_count": null,
   "metadata": {},
   "outputs": [],
   "source": [
    "for element in range(len(sections_list)):\n",
    "    print(\"{} - {}\".format(sections_list[element], time_element_list[element]))"
   ]
  },
  {
   "cell_type": "code",
   "execution_count": null,
   "metadata": {},
   "outputs": [],
   "source": [
    "nawba_list = [12]\n",
    "\n",
    "rmbid_list = list()\n",
    "for nawba in nawba_list:\n",
    "    rmbid_list += cm.search_recording(\"all\", nawba, \"all\", \"all\")"
   ]
  },
  {
   "cell_type": "code",
   "execution_count": null,
   "metadata": {},
   "outputs": [],
   "source": [
    "len(rmbid_list)"
   ]
  },
  {
   "cell_type": "code",
   "execution_count": null,
   "metadata": {},
   "outputs": [],
   "source": [
    "rmbid_list"
   ]
  },
  {
   "cell_type": "code",
   "execution_count": null,
   "metadata": {},
   "outputs": [],
   "source": [
    "duration_list = list()\n",
    "for rmbid in rmbid_list:\n",
    "    temp_sum = 0\n",
    "    for line in cm.df_description.index.values.tolist():\n",
    "        if rmbid == cm.df_description.loc[line,'mbid']:\n",
    "            temp_sum += cm.df_description.loc[line,'duration']\n",
    "    \n",
    "    duration_list.append(temp_sum)\n",
    "    \n",
    "for i in range(len(duration_list)):\n",
    "    #print(\"{} - {}\".format(rmbid_list[i], duration_list[i]))\n",
    "    print(\"{}\".format(rmbid_list[i]))"
   ]
  },
  {
   "cell_type": "code",
   "execution_count": null,
   "metadata": {},
   "outputs": [],
   "source": [
    "NAWBA_LIST = [1,2,3,4,5,6,7,10,11,12,13]\n",
    "print(len(NAWBA_LIST))"
   ]
  },
  {
   "cell_type": "code",
   "execution_count": null,
   "metadata": {},
   "outputs": [],
   "source": [
    "rmbid_list = [\n",
    "\"1630e9c2-3c01-4959-a633-7dbacbc7616e\",\n",
    "\"9727ddbe-eb79-461b-9861-8a60336b17f6\",\n",
    "\"c20e4852-d140-4909-acab-e850c0e7d8e8\",\n",
    "\"33423585-e406-40ec-ba28-88b0768cb668\",\n",
    "\"6fe7108c-4e4f-457b-a363-ccf505bdee9a\",\n",
    "\"92de6fc8-a040-4500-bd94-73e9ee39f189\",\n",
    "\"e22549ae-4a0c-43ef-87f4-e0f81ed49d58\",\n",
    "\"689a2401-00b8-44f5-8107-76bfe75a36fe\",\n",
    "\"9b194c42-f974-42f8-89b1-123bb07170b8\",\n",
    "\"aecf65c2-ef6a-4e7a-a123-24fbe757684e\",\n",
    "\"2d8e2820-e4cf-4dc8-b4f1-45f8fb65de9e\",\n",
    "\"3bb348f5-417d-4646-9041-42b935c54c28\",\n",
    "\"6aa540dc-e857-4115-9b90-a0480eb5316f\",\n",
    "\"ec5d2ba0-7c04-4d87-83b9-f82d363ca319\",\n",
    "\"9781e524-92de-43f2-87e3-1e9f05931f0e\",\n",
    "\"4cfc03f4-9378-41d3-acd5-87b09c68d46b\",\n",
    "\"73c4fd81-7464-4771-bd90-e3038dd633ef\",\n",
    "\"12ce112f-38ed-4700-94ec-a329d06f6196\",\n",
    "\"13a8d4b9-8dbf-40c0-98df-db64791e43a9\",\n",
    "\"b7b63bb4-1839-45bf-bb4f-389f150c556a\",\n",
    "\"e4e3fc3c-8d57-4123-b14c-236110dde3c0\",\n",
    "\"4ddff7dd-8916-4dc4-abdd-56ce12ea88ca\",\n",
    "\"9c48f778-ccb8-4a08-969c-68e250798035\",\n",
    "\"224bfb11-f761-4976-bc71-42d9805e5d63\",\n",
    "\"8f32c379-c70a-4e9e-aabb-e0735611ecab\",\n",
    "\"9b95a239-54c8-4cbe-b063-793b8718f022\",\n",
    "\"f8b75f4a-1524-43cb-ad45-622ac277d96e\",\n",
    "\"bc9625f1-cee7-432f-9f8d-dc9881a47dc2\",\n",
    "\"c1e0311e-ee21-470c-b6f9-815d892cf6c9\",\n",
    "\"8ddaae6b-3657-41f1-98a1-7faffd6dcb5f\",\n",
    "\"bb7adfee-f63d-4004-a457-b31ae784a0bd\",\n",
    "\"03e555c6-a480-4e11-aef7-231891c4f4e6\",\n",
    "\"6021ce1e-7117-45de-8e49-71f94b0572af\",\n",
    "\"07ee1daa-3bac-4bb8-922e-36729c11fc3a\",\n",
    "\"3b8d2e45-3bfd-4596-bcc0-addc64551eda\",\n",
    "\"0d0f31a6-dbf6-4aee-868e-76a6be2ffab3\",\n",
    "\"64998568-2c8f-41f2-8462-5a9c798b6055\",\n",
    "\"b3059282-a235-4fa4-9093-cb16a70d4b5d\",\n",
    "\"99c711e8-0683-4a44-9116-fc2b9448d98d\",\n",
    "\"799b1ba0-46ec-4d0d-bdff-e07d1dc07b09\",\n",
    "\"95940501-39f3-4c08-9bbb-1799d8d89a45\",\n",
    "\"eefa9d7d-6172-4c90-ba0c-ef9a41faa95d\",\n",
    "\"a451a7fc-c53f-462a-b3fc-4377bb588105\",\n",
    "\"8842c1f0-e261-4069-bd59-768bb9a3315c\",\n",
    "\"f7bcb9af-6abb-4192-ae3d-37fa811034ce\",\n",
    "\"b11237b9-d45b-4b3a-a97b-ab7d198f927f\",\n",
    "\"7448d9c2-5261-4e70-bd98-6ed8416f908f\",\n",
    "\"277bc427-16dd-4468-9f4c-16945ffc3b30\",\n",
    "\"f7c00e6e-7b07-47ba-bfdd-146ddbf9adb5\",\n",
    "\"ee64a602-ace5-4e1a-96ef-89a7cf41cfb5\",\n",
    "\"c2560f5e-e040-40ca-a390-72ed1ecd0792\",\n",
    "\"b787f4e2-dce1-4bfe-89b3-193cbaa5c90d\",\n",
    "\"ec15c3e3-f58b-4073-8e1e-82620f488745\",\n",
    "\"d66d44e9-f722-4b23-8753-0dea2818f475\",\n",
    "\"0fb722f6-35a3-436b-9316-4c2de2b86cc7\",\n",
    "\"78593333-603a-4abe-9c9b-6c4db3abc61e\",\n",
    "\"d5cc773e-9d31-42e8-b9de-91374fe7153b\",\n",
    "\"1ffa4dee-b08e-4332-a2ab-9843c13c3dfa\",\n",
    "\"47e023e5-62a3-4dec-b61a-128ca5e23982\",\n",
    "\"2d91d7e4-904a-46b7-bce2-230ca4e1b1c4\",\n",
    "\"0d1d3cff-e68e-403d-bb3f-caca302bf5ab\",\n",
    "\"7a5cc189-4962-42d0-8141-d1374e933e46\",\n",
    "\"69ac4f1a-eca5-42eb-9f9c-a1c2316cb040\",\n",
    "\"4a90d304-5deb-4af9-83d6-15931c289b73\",\n",
    "\"bb44fb69-f787-4729-8470-1955eadb4862\",\n",
    "\"52152ffb-5447-45dc-a332-2fdda533380e\",\n",
    "\"80dfbf12-1532-48e8-8128-1132acfca376\",\n",
    "\"01da143e-4224-4692-8e6c-1d55f6de8a6d\",\n",
    "\"35585cf5-36df-4592-bbf8-f7f2d6c7632c\",\n",
    "\"761e7fe4-871a-4f3e-8128-1cd1885d5288\",\n",
    "\"719a2afc-461f-461e-ad18-8bce2c4f5023\",\n",
    "\"cdf77450-2d12-472d-9f6d-c150bba808b8\",\n",
    "\"3fb6107c-13be-4006-851a-a857ed2f80bb\",\n",
    "\"769ff214-27f4-4ac1-8750-a03015d51161\",\n",
    "\"b8327bca-28eb-402b-9184-7777b980048c\",\n",
    "\"6311c0de-d66f-482d-8dd1-8d8917ca6a76\",\n",
    "\"e0ce0420-165c-4339-8556-6d75a0b733c7\"\n",
    "]"
   ]
  },
  {
   "cell_type": "code",
   "execution_count": null,
   "metadata": {},
   "outputs": [],
   "source": [
    "def get_recoring_duration_from_metadata(cm, rmbid):\n",
    "    last_end = 0\n",
    "    for row in cm.df_description.index.values.tolist():\n",
    "        if cm.df_description.loc[row, 'mbid'] == rmbid:\n",
    "            last_end = cm.df_description.loc[row, 'end_time']\n",
    "    return last_end"
   ]
  },
  {
   "cell_type": "code",
   "execution_count": null,
   "metadata": {},
   "outputs": [],
   "source": [
    "sum_tot = 0\n",
    "for rmbid in rmbid_list:\n",
    "    sum_tot += get_recoring_duration_from_metadata(cm, rmbid)\n",
    "print(get_time(sum_tot))"
   ]
  },
  {
   "cell_type": "code",
   "execution_count": null,
   "metadata": {},
   "outputs": [],
   "source": [
    "get_time(int(sum_tot/77))"
   ]
  },
  {
   "cell_type": "code",
   "execution_count": null,
   "metadata": {},
   "outputs": [],
   "source": []
  }
 ],
 "metadata": {
  "kernelspec": {
   "display_name": "Python 3",
   "language": "python",
   "name": "python3"
  },
  "language_info": {
   "codemirror_mode": {
    "name": "ipython",
    "version": 3
   },
   "file_extension": ".py",
   "mimetype": "text/x-python",
   "name": "python",
   "nbconvert_exporter": "python",
   "pygments_lexer": "ipython3",
   "version": "3.5.2"
  }
 },
 "nbformat": 4,
 "nbformat_minor": 2
}
