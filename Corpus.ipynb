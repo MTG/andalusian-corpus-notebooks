{
 "cells": [
  {
   "attachments": {},
   "cell_type": "markdown",
   "metadata": {},
   "source": [
    "# Arab-Andalusian Collection - Corpus\n",
    "With this notebook, it is possible to download and analyse the entire corpus of Arab-Andalusian music in Dunya. The corpus is composed by 164 recordings and their relative metadata coming from Dunya. Most of them also feature notes transcriptions stored in a xml score and other metadata coming from Musicbrainz. With this notebook, it is possible to select all or part of this corpus, downloading the data and computing pitch profile, distribution and tonic frequency of each recording."
   ]
  },
  {
   "attachments": {},
   "cell_type": "markdown",
   "metadata": {},
   "source": [
    "## Initialization (MANDATORY)\n",
    "In this cell, all the libraries are loaded. \n",
    "Furthermore, a function checks if the metadata related to Arab-Andalusian corpus of Dunya has been downloaded: if not, all metadata will be downloaded. \n",
    "At the end, the code creates an object to manage the Dunya metadata.\n",
    "\n",
    "#### NB: Before to run, remember to add the Dunya token in the costants.py file. This file is in the directory \"utilities\"."
   ]
  },
  {
   "cell_type": "code",
   "execution_count": null,
   "metadata": {},
   "outputs": [],
   "source": [
    "from utilities.recordingcomputation import *\n",
    "from utilities.dunyautilities import *\n",
    "from utilities.metadataStatistics import *\n",
    "from utilities.constants import *\n",
    "from gui.gui_corpora import *\n",
    "\n",
    "# download metadata from Dunya\n",
    "if not check_dunya_metadata():\n",
    "    print(\"Downloading metadata from Dunya...\")\n",
    "    collect_metadata()\n",
    "\n",
    "# create an object with all the well-structured metadata\n",
    "print(\"Analyzing Dunya Metadata...\")\n",
    "cm = CollectionMetadata()\n",
    "print(\"Collection of metadata created\")"
   ]
  },
  {
   "attachments": {},
   "cell_type": "markdown",
   "metadata": {},
   "source": [
    "## Select a list of recordings\n",
    "\n",
    "The widget of this cell allows to select a subset of the Arab-Andalusian corpus. With the characteristics of the first row, it is possible to select a list of recordings with a specific nawba, tab, mizan and form. All these data come from Dunya metadata. \n",
    "\n",
    "Options in the second row allow to select the recordings depending if the mp3 file and/or xml score and/or Musicbrainz metadata are downloaded or not.\n",
    "It is also possible to select only the recordings that have been analysed or not. \n",
    "\n",
    "Furthermore, the list of resulting recordings could be manually tweaked using checkboxes."
   ]
  },
  {
   "cell_type": "code",
   "execution_count": null,
   "metadata": {
    "scrolled": false
   },
   "outputs": [],
   "source": [
    "selector = SelectionGui(cm, 10)"
   ]
  },
  {
   "cell_type": "markdown",
   "metadata": {},
   "source": [
    "To extract the list of recordings from the previous interface, it is necessary to run the next cell. \n",
    "The resulting list contains all the Musicbrainz IDs of the selected recordings."
   ]
  },
  {
   "cell_type": "code",
   "execution_count": null,
   "metadata": {
    "scrolled": true
   },
   "outputs": [],
   "source": [
    "rmbid_list1 = selector.get_rmbid_list()\n",
    "print(\"Number of tracks: \" + str(len(rmbid_list1)))"
   ]
  },
  {
   "cell_type": "markdown",
   "metadata": {},
   "source": [
    "## Download mp3, score and Musicbrainz metadata"
   ]
  },
  {
   "cell_type": "markdown",
   "metadata": {},
   "source": [
    "With this function, it is possible to check the correctness of the list of Musicbrainz IDs. Incorrect IDs are showed."
   ]
  },
  {
   "cell_type": "code",
   "execution_count": null,
   "metadata": {},
   "outputs": [],
   "source": [
    "check_before_download(rmbid_list1, cm)"
   ]
  },
  {
   "cell_type": "markdown",
   "metadata": {},
   "source": [
    "The following interface allows to download the list of recordings previously selected. User can choose the type of data to download."
   ]
  },
  {
   "cell_type": "code",
   "execution_count": null,
   "metadata": {
    "scrolled": true
   },
   "outputs": [],
   "source": [
    "downloader = DownloadGui(rmbid_list1, cm)"
   ]
  },
  {
   "attachments": {},
   "cell_type": "markdown",
   "metadata": {},
   "source": [
    "## Compute recordings \n",
    "The following interface allows to analyse a list of recordings. User can decide to analyse the pitch and to convert mp3s into wav files. The results of the pitch analysis consist in JSON files containing pitch profile, pitch distribution and tonic frequency. It is possible to export results also in txt format, in order to study a recording using the spectrogram tool of Sonic Visualizer.\n",
    "\n",
    "#### NB: a new list of recordings can be created using the selection widget"
   ]
  },
  {
   "cell_type": "code",
   "execution_count": null,
   "metadata": {
    "scrolled": false
   },
   "outputs": [],
   "source": [
    "analyzer = ComputationGui(rmbid_list1, cm)"
   ]
  },
  {
   "cell_type": "markdown",
   "metadata": {},
   "source": [
    "## Test"
   ]
  },
  {
   "cell_type": "code",
   "execution_count": null,
   "metadata": {},
   "outputs": [],
   "source": []
  }
 ],
 "metadata": {
  "kernelspec": {
   "display_name": "Python 3",
   "language": "python",
   "name": "python3"
  },
  "language_info": {
   "codemirror_mode": {
    "name": "ipython",
    "version": 3
   },
   "file_extension": ".py",
   "mimetype": "text/x-python",
   "name": "python",
   "nbconvert_exporter": "python",
   "pygments_lexer": "ipython3",
   "version": "3.5.2"
  }
 },
 "nbformat": 4,
 "nbformat_minor": 2
}
