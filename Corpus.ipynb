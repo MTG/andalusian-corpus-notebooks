{
 "cells": [
  {
   "cell_type": "markdown",
   "metadata": {},
   "source": [
    "# Arab-Andalusian Collection - Corpus\n",
    "With this notebook, it is possible to download and to analyze the entire corpus of Arab-Andalusian music in Dunya. The corpus is composed by 164 recordings. Most of them have also the transcriptions of the notes in a xml score and metadata in Musicbrainz. With this notebook is possible to select all or a part of this corpus, to download the data and to compute the pitch profile, the pitch distribution and the tonic frequency of each recording. "
   ]
  },
  {
   "cell_type": "markdown",
   "metadata": {},
   "source": [
    "## Inizialization (MANDATORY)\n",
    "In this cell, all the libraries are loaded. \n",
    "Furthermore, a function check if the metadata related to the Arab-Andalusian corpus of Dunya has been downloaded. If necessary, all the metadata will be downloaded. \n",
    "At the end, an object to manage the Dunya metadata is created.\n",
    "\n",
    "#### NB: Before to run, remember to add the dunya token in the costants.py file. This file is in the directory \"utilities\"."
   ]
  },
  {
   "cell_type": "code",
   "execution_count": null,
   "metadata": {},
   "outputs": [],
   "source": [
    "from utilities.recordingcomputation import *\n",
    "from utilities.dunyautilities import *\n",
    "from utilities.metadataStatistics import *\n",
    "from utilities.constants import *\n",
    "from gui.gui_corpora import *\n",
    "\n",
    "# download metadata from Dunya\n",
    "if not check_dunya_metadata():\n",
    "    print(\"Downloading metadata from Dunya...\")\n",
    "    collect_metadata()\n",
    "\n",
    "# create an object with all the well-structured metadata\n",
    "print(\"Analyzing Dunya Metadata...\")\n",
    "cm = CollectionMetadata()\n",
    "print(\"Collection of metadata created\")"
   ]
  },
  {
   "cell_type": "markdown",
   "metadata": {},
   "source": [
    "## Select a list of recordings\n",
    "\n",
    "The widget of this cell allows to select a subset of the Arab-Andalusian corpus. With the characteristics of the first row it is possible to select a list of recordings with a specific nawba, tab, mizan and form. All these data are from Dunya metadata. \n",
    "\n",
    "The options in the second row allows to consider the recordings if the mp3 file and/or xml score and/or Musicbrainz metadata are downloaded or not. \n",
    "It is also possible to select only the recordings analyzed or not. \n",
    "\n",
    "Furthermore, the list of resulting recordings could be customized with checkboxes."
   ]
  },
  {
   "cell_type": "code",
   "execution_count": null,
   "metadata": {
    "scrolled": false
   },
   "outputs": [],
   "source": [
    "selector = SelectionGui(cm, 10)"
   ]
  },
  {
   "cell_type": "markdown",
   "metadata": {},
   "source": [
    "To extract the list of recordings from the previous interface, it is necessary to run the next cell. \n",
    "The resulting list contains all the Musicbrainz ids of the selected recordings."
   ]
  },
  {
   "cell_type": "code",
   "execution_count": null,
   "metadata": {
    "scrolled": true
   },
   "outputs": [],
   "source": [
    "rmbid_list1 = selector.get_rmbid_list()\n",
    "print(\"Number of tracks: \" + str(len(rmbid_list1)))"
   ]
  },
  {
   "cell_type": "markdown",
   "metadata": {},
   "source": [
    "## Download mp3, score and Music Brainz metadata"
   ]
  },
  {
   "cell_type": "markdown",
   "metadata": {},
   "source": [
    "With this function, it is possible to check the correctness of the list of musicbrainz id. The incorrect id are showed."
   ]
  },
  {
   "cell_type": "code",
   "execution_count": null,
   "metadata": {},
   "outputs": [],
   "source": [
    "check_before_download(rmbid_list1, cm)"
   ]
  },
  {
   "cell_type": "markdown",
   "metadata": {},
   "source": [
    "The following interface allows to download the list of recordings previously selected. The user can choose the type of data to download."
   ]
  },
  {
   "cell_type": "code",
   "execution_count": null,
   "metadata": {
    "scrolled": true
   },
   "outputs": [],
   "source": [
    "downloader = DownloadGui(rmbid_list1, cm)"
   ]
  },
  {
   "cell_type": "markdown",
   "metadata": {},
   "source": [
    "## Compute recordings \n",
    "The following interface allows to analyze a list of recordings. The user can decide to analyze the pitch and to convert in wav the mp3. The results of the pitch analysis are json files with the pitch profile, the pitch distribution and the tonic frequency. It is possible to export the results also in a txt format, useful to study a recording with the spectrogram of Sonic Visualizer.\n",
    "\n",
    "#### NB: a new list of recordings can be created with the selection widget"
   ]
  },
  {
   "cell_type": "code",
   "execution_count": null,
   "metadata": {
    "scrolled": false
   },
   "outputs": [],
   "source": [
    "analyzer = ComputationGui(rmbid_list1, cm)"
   ]
  },
  {
   "cell_type": "markdown",
   "metadata": {},
   "source": [
    "## Test"
   ]
  },
  {
   "cell_type": "code",
   "execution_count": null,
   "metadata": {},
   "outputs": [],
   "source": []
  }
 ],
 "metadata": {
  "kernelspec": {
   "display_name": "Python 3",
   "language": "python",
   "name": "python3"
  },
  "language_info": {
   "codemirror_mode": {
    "name": "ipython",
    "version": 3
   },
   "file_extension": ".py",
   "mimetype": "text/x-python",
   "name": "python",
   "nbconvert_exporter": "python",
   "pygments_lexer": "ipython3",
   "version": "3.5.2"
  }
 },
 "nbformat": 4,
 "nbformat_minor": 2
}
